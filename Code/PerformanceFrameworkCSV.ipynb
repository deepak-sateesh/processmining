{
 "cells": [
  {
   "cell_type": "code",
   "execution_count": 1,
   "metadata": {},
   "outputs": [],
   "source": [
    "#All the imports here\n",
    "from pm4py.objects.log.importer.xes import importer as xes_importer\n",
    "from pm4py.algo.discovery.inductive import algorithm as inductive_miner\n",
    "from pm4py.algo.discovery.inductive import algorithm as inductive_miner\n",
    "from pm4py.visualization.process_tree import visualizer as pt_visualizer\n",
    "from pm4py.objects.conversion.process_tree import converter as pt_converter\n",
    "from pm4py.algo.discovery.dfg import algorithm as dfg_discovery\n",
    "from pm4py.visualization.dfg import visualizer as dfg_visualization\n",
    "from pm4py.objects.conversion.dfg import converter as dfg_mining\n",
    "from pm4py.visualization.petrinet import factory as pn_vis_factory\n",
    "from collections import defaultdict \n",
    "import pandas as pd\n",
    "from pm4py.objects.log.util import dataframe_utils\n",
    "from pm4py.objects.conversion.log import converter as log_converter\n",
    "from pm4py.objects.log.adapters.pandas import csv_import_adapter\n",
    "from pm4py.objects.conversion.log import factory as conversion_factory\n",
    "from pm4py.util import constants\n",
    "import math\n",
    "from datetime import date\n",
    "import datetime\n",
    "import numpy as np\n",
    "from pm4py.objects.log.util import sorting\n",
    "from pm4py.algo.filtering.log.attributes import attributes_filter\n",
    "from pm4py.statistics.traces.log import case_statistics"
   ]
  },
  {
   "cell_type": "code",
   "execution_count": 2,
   "metadata": {},
   "outputs": [
    {
     "data": {
      "text/plain": [
       "[{'attributes': {'concept:name': 'Case 178'}, 'events': [{'Case ID': 'Case 178', 'concept:name': 'Round Grinding - Machine 3', 'Resource': 'Machine 3 - Round Grinding', 'time:timestamp': Timestamp('2012-01-02 00:00:00'), 'Complete Timestamp': Timestamp('2012-01-02 04:50:00'), 'Span': '004:50', 'Work Order  Qty': 250, 'Part Desc.': 'Cable Head', 'Worker ID': 'ID4445', 'Report Type': 'D', 'Qty Completed': 31, 'Qty Rejected': 0, 'Qty for MRB': 0, 'Rework': nan, 'duration': '50:00.0'}, '..', {'Case ID': 'Case 178', 'concept:name': 'Round Grinding - Q.C.', 'Resource': 'Quality Check 1', 'time:timestamp': Timestamp('2012-03-14 00:00:00'), 'Complete Timestamp': Timestamp('2012-03-14 01:15:00'), 'Span': '000:00', 'Work Order  Qty': 250, 'Part Desc.': 'Cable Head', 'Worker ID': 'ID0937', 'Report Type': 'D', 'Qty Completed': 245, 'Qty Rejected': 0, 'Qty for MRB': 0, 'Rework': nan, 'duration': '15:00.0'}]}, '....', {'attributes': {'concept:name': 'Case 107'}, 'events': [{'Case ID': 'Case 107', 'concept:name': 'Turning & Milling - Machine 10', 'Resource': 'Machine 10 - Grinding', 'time:timestamp': Timestamp('2012-03-30 06:36:00'), 'Complete Timestamp': Timestamp('2012-03-30 11:47:00'), 'Span': '005:11', 'Work Order  Qty': 20, 'Part Desc.': 'Cable Head', 'Worker ID': 'ID4132', 'Report Type': 'S', 'Qty Completed': 1, 'Qty Rejected': 0, 'Qty for MRB': 0, 'Rework': nan, 'duration': '11:00.0'}]}]"
      ]
     },
     "execution_count": 2,
     "metadata": {},
     "output_type": "execute_result"
    }
   ],
   "source": [
    "log_csv4 = pd.read_csv('Production_Data.csv', sep=',')\n",
    "log_csv4.rename(columns={'Activity': 'concept:name','Start Timestamp':'time:timestamp'}, inplace=True)\n",
    "log_csv4['time:timestamp'] =  pd.to_datetime(log_csv4['time:timestamp'] , format='%m/%d/%Y %H:%M:%S')\n",
    "log_csv4['Complete Timestamp'] =  pd.to_datetime(log_csv4['Complete Timestamp'] , format='%m/%d/%Y %H:%M:%S')\n",
    "parameters = {log_converter.Variants.TO_EVENT_LOG.value.Parameters.CASE_ID_KEY: 'Case ID'}\n",
    "event_log4 = log_converter.apply(log_csv4, parameters=parameters, variant=log_converter.Variants.TO_EVENT_LOG)\n",
    "event_log4 = sorting.sort_timestamp(event_log4,\"time:timestamp\", False)\n",
    "event_log4"
   ]
  },
  {
   "cell_type": "code",
   "execution_count": 3,
   "metadata": {},
   "outputs": [
    {
     "data": {
      "text/plain": [
       "dict_keys(['Round Grinding - Machine 3', 'Round Grinding - Machine 2', 'Grinding Rework - Machine 27', 'Lapping - Machine 1', 'Grinding Rework - Machine 2', 'Fix - Machine 19', 'Turning & Milling Q.C.', 'Laser Marking - Machine 7', 'Round Grinding - Q.C.', 'Final Inspection Q.C.', 'Packing', 'Turning & Milling - Machine 4', 'Turning - Machine 8', 'Turning Q.C.', 'Milling - Machine 16', 'Round Grinding - Manual', 'Turning & Milling - Machine 9', 'Flat Grinding - Machine 11', 'Turning & Milling - Machine 8', 'Nitration Q.C.', 'Wire Cut - Machine 13', 'Turning & Milling - Machine 5', 'Grinding Rework', 'Turning & Milling - Machine 10', 'Round Grinding - Machine 12', 'Turning & Milling - Machine 6', 'Turn & Mill. & Screw Assem - Machine 9', 'Turning Rework - Machine 21', 'Flat Grinding - Machine 26', 'Round Grinding - Machine 19', 'Fix - Machine 3', 'Round Grinding - Machine 23', 'Milling - Machine 10', 'Fix - Machine 15', 'Grinding Rework - Machine 12', 'Stress Relief', 'Turning - Machine 9', 'Rework Milling - Machine 28', 'Milling - Machine 14', 'Fix EDM', 'Milling Q.C.', 'Deburring - Manual', 'Turning - Machine 5', 'Change Version - Machine 22', 'Round  Q.C.', 'Wire Cut - Machine 18', 'Turn & Mill. & Screw Assem - Machine 10', 'Final Inspection - Weighting', 'SETUP     Turning & Milling - Machine 5', 'Turning - Machine 21', 'Setup - Machine 4', 'Turning - Machine 4', 'Milling - Machine 8', 'Setup - Machine 8', 'Fix - Machine 15M'])"
      ]
     },
     "execution_count": 3,
     "metadata": {},
     "output_type": "execute_result"
    }
   ],
   "source": [
    "activities_dict={}\n",
    "\n",
    "for case_index, case in enumerate(event_log4):\n",
    "        #print(\"\\n case index: %d  case id: %s\" % (case_index, case.attributes[\"concept:name\"]))\n",
    "        \n",
    "        for event_index, event in enumerate(case):\n",
    "            if(event[\"concept:name\"] in activities_dict.keys()): #and activities_dict[event[\"concept:name\"]] is not None):\n",
    "                #print(activities_dict[event[\"concept:name\"]])\n",
    "                activities_dict[event[\"concept:name\"]].append((case.attributes[\"concept:name\"],event_index, event[\"concept:name\"], event['Complete Timestamp']-event['time:timestamp']))\n",
    "            else:\n",
    "                activities_dict[event[\"concept:name\"]]=[(case.attributes[\"concept:name\"],event_index,event[\"concept:name\"],event['Complete Timestamp']-event['time:timestamp'])]\n",
    "\n",
    "#activities_dict\n",
    "average_dict={}\n",
    "for k,v in activities_dict.items():\n",
    "    i=0\n",
    "    for l in v:\n",
    "        i+=1\n",
    "        if(k in average_dict.keys()):\n",
    "            average_dict[k]=[average_dict[k][0]+l[3].total_seconds(), i]\n",
    "        else:\n",
    "            average_dict[k]=[l[3].total_seconds(),i]\n",
    "\n",
    "average_dict2={}\n",
    "for k,v in average_dict.items():\n",
    "    average_dict2[k]= v[0]/v[1]\n",
    "activities_dict.keys()  \n",
    "#print(activities_duration,i)"
   ]
  },
  {
   "cell_type": "code",
   "execution_count": 4,
   "metadata": {},
   "outputs": [
    {
     "data": {
      "text/html": [
       "<div>\n",
       "<style scoped>\n",
       "    .dataframe tbody tr th:only-of-type {\n",
       "        vertical-align: middle;\n",
       "    }\n",
       "\n",
       "    .dataframe tbody tr th {\n",
       "        vertical-align: top;\n",
       "    }\n",
       "\n",
       "    .dataframe thead th {\n",
       "        text-align: right;\n",
       "    }\n",
       "</style>\n",
       "<table border=\"1\" class=\"dataframe\">\n",
       "  <thead>\n",
       "    <tr style=\"text-align: right;\">\n",
       "      <th></th>\n",
       "      <th>Detected Weakness Row</th>\n",
       "      <th>Case ID</th>\n",
       "      <th>Weakness Type (AF/PA)</th>\n",
       "      <th>Weakness ID</th>\n",
       "      <th>Weakness Origin</th>\n",
       "      <th>Weakness Time</th>\n",
       "      <th>Weakness Information</th>\n",
       "      <th>Weakness Measurement</th>\n",
       "      <th>Weakness Level</th>\n",
       "    </tr>\n",
       "  </thead>\n",
       "  <tbody>\n",
       "  </tbody>\n",
       "</table>\n",
       "</div>"
      ],
      "text/plain": [
       "Empty DataFrame\n",
       "Columns: [Detected Weakness Row, Case ID, Weakness Type (AF/PA), Weakness ID, Weakness Origin, Weakness Time, Weakness Information, Weakness Measurement, Weakness Level]\n",
       "Index: []"
      ]
     },
     "execution_count": 4,
     "metadata": {},
     "output_type": "execute_result"
    }
   ],
   "source": [
    "cols=['Detected Weakness Row','Case ID','Weakness Type (AF/PA)','Weakness ID','Weakness Origin', 'Weakness Time','Weakness Information','Weakness Measurement', 'Weakness Level']\n",
    "df=pd.DataFrame(columns=cols)\n",
    "df"
   ]
  },
  {
   "cell_type": "code",
   "execution_count": 5,
   "metadata": {},
   "outputs": [
    {
     "data": {
      "text/plain": [
       "1197480.0"
      ]
     },
     "execution_count": 5,
     "metadata": {},
     "output_type": "execute_result"
    }
   ],
   "source": [
    "median_case_duration=case_statistics.get_median_caseduration (event_log4)\n",
    "median_case_duration"
   ]
  },
  {
   "cell_type": "code",
   "execution_count": 6,
   "metadata": {
    "scrolled": false
   },
   "outputs": [],
   "source": [
    "case_description_durations=case_statistics.get_cases_description (event_log4)\n",
    "for k,v in case_description_durations.items():\n",
    "    row={cols[0]:k, cols[1]: k, cols[2]:'PA', cols[3]:'10',cols[4]:'Automatic detection',cols[5]:'',cols[6]:abs(v['caseDuration']-median_case_duration),cols[7]:'Distance from median case duration in seconds',cols[8]:'Case level'}\n",
    "    df=df.append(row, ignore_index=True)"
   ]
  },
  {
   "cell_type": "code",
   "execution_count": 7,
   "metadata": {},
   "outputs": [],
   "source": [
    "for case_index, case in enumerate(event_log4):\n",
    "        #print(\"\\n case index: %d  case id: %s\" % (case_index, case.attributes[\"concept:name\"]))\n",
    "        \n",
    "        for event_index, event in enumerate(case):\n",
    "            row={cols[0]:case.attributes[\"concept:name\"]+\"-> Event \"+str(event_index), cols[1]: case.attributes[\"concept:name\"], cols[2]:'PA', cols[3]:'11',cols[4]:'Automatic detection',cols[5]:event['time:timestamp'],cols[6]: datetime.timedelta( abs(average_dict2[event[\"concept:name\"]]-(event['Complete Timestamp']-event['time:timestamp']).total_seconds())),cols[7]:'Distance from average activity duration',cols[8]:'Activity level'}\n",
    "            df=df.append(row, ignore_index=True)\n"
   ]
  },
  {
   "cell_type": "code",
   "execution_count": 8,
   "metadata": {},
   "outputs": [],
   "source": [
    "df.to_excel(\"PA_dataframe.xlsx\")"
   ]
  },
  {
   "cell_type": "code",
   "execution_count": null,
   "metadata": {},
   "outputs": [],
   "source": []
  },
  {
   "cell_type": "code",
   "execution_count": 9,
   "metadata": {},
   "outputs": [],
   "source": [
    "#df['Weakness Information'][0]\n"
   ]
  },
  {
   "cell_type": "code",
   "execution_count": 10,
   "metadata": {},
   "outputs": [],
   "source": [
    "#df.to_excel(\"AF_dataframe.xlsx\")"
   ]
  },
  {
   "cell_type": "code",
   "execution_count": 11,
   "metadata": {
    "scrolled": true
   },
   "outputs": [],
   "source": [
    "\n",
    "\n",
    "all_case_durations = case_statistics.get_all_casedurations(event_log4, parameters={\n",
    "    case_statistics.Parameters.TIMESTAMP_KEY: \"time:timestamp\"})\n",
    "         "
   ]
  },
  {
   "cell_type": "code",
   "execution_count": 12,
   "metadata": {},
   "outputs": [
    {
     "data": {
      "text/plain": [
       "1891320.0"
      ]
     },
     "execution_count": 12,
     "metadata": {},
     "output_type": "execute_result"
    }
   ],
   "source": [
    "#all_case_durations\n",
    "z=case_statistics.get_cases_description(event_log4)\n",
    "z['Case 12']['caseDuration']"
   ]
  },
  {
   "cell_type": "code",
   "execution_count": 13,
   "metadata": {},
   "outputs": [
    {
     "data": {
      "text/plain": [
       "1197480.0"
      ]
     },
     "execution_count": 13,
     "metadata": {},
     "output_type": "execute_result"
    }
   ],
   "source": [
    "median_case_duration = case_statistics.get_median_caseduration(event_log4, parameters={\n",
    "    case_statistics.Parameters.TIMESTAMP_KEY: \"time:timestamp\"\n",
    "})\n",
    "median_case_duration"
   ]
  },
  {
   "cell_type": "code",
   "execution_count": 14,
   "metadata": {},
   "outputs": [
    {
     "data": {
      "text/plain": [
       "20070.0"
      ]
     },
     "execution_count": 14,
     "metadata": {},
     "output_type": "execute_result"
    }
   ],
   "source": [
    "from pm4py.statistics.traces.log import case_arrival\n",
    "case_arrival_ratio = case_arrival.get_case_arrival_avg(event_log4, parameters={\n",
    "    case_arrival.Parameters.TIMESTAMP_KEY: \"time:timestamp\"})\n",
    "case_arrival_ratio      "
   ]
  },
  {
   "cell_type": "code",
   "execution_count": 15,
   "metadata": {},
   "outputs": [
    {
     "data": {
      "text/plain": [
       "{'list_activities': ['Final Inspection Q.C.', 'Packing'],\n",
       " 'points': [[1325671200.0, 1325721600.0],\n",
       "  [1325683200.0, 1325721600.0],\n",
       "  [1325690760.0, 1325808000.0],\n",
       "  [1325750700.0, 1325808000.0],\n",
       "  [1325757180.0, 1325808000.0],\n",
       "  [1326006000.0, 1326240000.0],\n",
       "  [1326031440.0, 1326067200.0],\n",
       "  [1326183660.0, 1326240000.0],\n",
       "  [1326207600.0, 1326326400.0],\n",
       "  [1326277320.0, 1326672000.0],\n",
       "  [1326283440.0, 1326412800.0],\n",
       "  [1326288240.0, 1326585600.0],\n",
       "  [1326356400.0, 1326585600.0],\n",
       "  [1326445200.0, 1326585600.0],\n",
       "  [1326447540.0, 1326585600.0],\n",
       "  [1326456180.0, 1326585600.0],\n",
       "  [1326457500.0, 1326585600.0],\n",
       "  [1326610200.0, 1326672000.0],\n",
       "  [1326611940.0, 1326758400.0],\n",
       "  [1326619200.0, 1326672000.0],\n",
       "  [1326629640.0, 1326758400.0],\n",
       "  [1326630600.0, 1326844800.0],\n",
       "  [1326805200.0, 1326844800.0],\n",
       "  [1326873600.0, 1329091200.0],\n",
       "  [1326882000.0, 1326931200.0],\n",
       "  [1326956400.0, 1327190400.0],\n",
       "  [1326967200.0, 1327017600.0],\n",
       "  [1327215300.0, 1327276800.0],\n",
       "  [1327217160.0, 1327276800.0],\n",
       "  [1327243200.0, 1327276800.0],\n",
       "  [1327363200.0, 1327363200.0],\n",
       "  [1327398480.0, 1327449600.0],\n",
       "  [1327398660.0, 1327449600.0],\n",
       "  [1327419000.0, 1330560000.0],\n",
       "  [1327577400.0, 1327622400.0],\n",
       "  [1327649880.0, 1327795200.0],\n",
       "  [1327662720.0, 1327795200.0],\n",
       "  [1327665600.0, 1327881600.0],\n",
       "  [1327820400.0, 1327881600.0],\n",
       "  [1327821660.0, 1327881600.0],\n",
       "  [1327827600.0, 1327881600.0],\n",
       "  [1327843200.0, 1327881600.0],\n",
       "  [1327844520.0, 1327881600.0],\n",
       "  [1327931640.0, 1327968000.0],\n",
       "  [1328165340.0, 1328227200.0],\n",
       "  [1328167800.0, 1328400000.0],\n",
       "  [1328175000.0, 1328486400.0],\n",
       "  [1328175360.0, 1328400000.0],\n",
       "  [1328186280.0, 1328227200.0],\n",
       "  [1328189280.0, 1328227200.0],\n",
       "  [1328196600.0, 1328400000.0],\n",
       "  [1328252400.0, 1328486400.0],\n",
       "  [1328448000.0, 1328486400.0],\n",
       "  [1328452740.0, 1328486400.0],\n",
       "  [1328512440.0, 1328572800.0],\n",
       "  [1328597220.0, 1329091200.0],\n",
       "  [1328692440.0, 1329350400.0],\n",
       "  [1328705040.0, 1328745600.0],\n",
       "  [1328788800.0, 1328832000.0],\n",
       "  [1328872200.0, 1329004800.0],\n",
       "  [1329030000.0, 1329091200.0],\n",
       "  [1329115980.0, 1331164800.0],\n",
       "  [1329127200.0, 1329177600.0],\n",
       "  [1329151200.0, 1329177600.0],\n",
       "  [1329210000.0, 1329264000.0],\n",
       "  [1329230700.0, 1329264000.0],\n",
       "  [1329312000.0, 1329350400.0],\n",
       "  [1329315600.0, 1329350400.0],\n",
       "  [1329390900.0, 1329436800.0],\n",
       "  [1329396180.0, 1329436800.0],\n",
       "  [1329398400.0, 1329436800.0],\n",
       "  [1329399000.0, 1329436800.0],\n",
       "  [1329401520.0, 1329436800.0],\n",
       "  [1329406320.0, 1329436800.0],\n",
       "  [1329471000.0, 1330214400.0],\n",
       "  [1329634200.0, 1329696000.0],\n",
       "  [1329634800.0, 1329696000.0],\n",
       "  [1329657600.0, 1329696000.0],\n",
       "  [1329657600.0, 1329782400.0],\n",
       "  [1329660420.0, 1329696000.0],\n",
       "  [1329664500.0, 1329782400.0],\n",
       "  [1329721200.0, 1329782400.0],\n",
       "  [1329721320.0, 1329782400.0],\n",
       "  [1329726360.0, 1329868800.0],\n",
       "  [1329728820.0, 1329782400.0],\n",
       "  [1329736260.0, 1329782400.0],\n",
       "  [1329752040.0, 1329782400.0],\n",
       "  [1329753180.0, 1329782400.0],\n",
       "  [1329807600.0, 1329955200.0],\n",
       "  [1329812040.0, 1329868800.0],\n",
       "  [1329822420.0, 1329868800.0],\n",
       "  [1329826500.0, 1329955200.0],\n",
       "  [1329841080.0, 1329868800.0],\n",
       "  [1329896760.0, 1329955200.0],\n",
       "  [1329901200.0, 1329955200.0],\n",
       "  [1329927000.0, 1329955200.0],\n",
       "  [1329980400.0, 1330041600.0],\n",
       "  [1329982800.0, 1330473600.0],\n",
       "  [1329992460.0, 1330041600.0],\n",
       "  [1330007400.0, 1330473600.0],\n",
       "  [1330214400.0, 1330214400.0],\n",
       "  [1330267620.0, 1330300800.0],\n",
       "  [1330333200.0, 1330387200.0],\n",
       "  [1330336800.0, 1330387200.0],\n",
       "  [1330348800.0, 1330387200.0],\n",
       "  [1330352040.0, 1330387200.0],\n",
       "  [1330352160.0, 1330387200.0],\n",
       "  [1330357860.0, 1330387200.0],\n",
       "  [1330358100.0, 1330387200.0],\n",
       "  [1330412940.0, 1330473600.0],\n",
       "  [1330413660.0, 1330473600.0],\n",
       "  [1330419600.0, 1330905600.0],\n",
       "  [1330435200.0, 1330473600.0],\n",
       "  [1330443420.0, 1330473600.0],\n",
       "  [1330445160.0, 1330473600.0],\n",
       "  [1330446480.0, 1330473600.0],\n",
       "  [1330447500.0, 1330473600.0],\n",
       "  [1330502880.0, 1332201600.0],\n",
       "  [1330504200.0, 1332028800.0],\n",
       "  [1330608000.0, 1330646400.0],\n",
       "  [1330853100.0, 1331424000.0],\n",
       "  [1330861080.0, 1330905600.0],\n",
       "  [1330867200.0, 1330905600.0],\n",
       "  [1331043060.0, 1331078400.0],\n",
       "  [1331051040.0, 1331078400.0],\n",
       "  [1331130600.0, 1331164800.0],\n",
       "  [1331135100.0, 1331164800.0],\n",
       "  [1331189400.0, 1331251200.0],\n",
       "  [1331204400.0, 1331251200.0],\n",
       "  [1331215260.0, 1331251200.0],\n",
       "  [1331453880.0, 1331510400.0],\n",
       "  [1331472000.0, 1331510400.0],\n",
       "  [1331551200.0, 1331769600.0],\n",
       "  [1331553540.0, 1331553600.0],\n",
       "  [1331554620.0, 1331596800.0],\n",
       "  [1331555220.0, 1331596800.0],\n",
       "  [1331625600.0, 1331683200.0],\n",
       "  [1331630460.0, 1331683200.0],\n",
       "  [1331657040.0, 1331683200.0],\n",
       "  [1331707980.0, 1332892800.0],\n",
       "  [1331723580.0, 1331769600.0],\n",
       "  [1331726580.0, 1331769600.0],\n",
       "  [1331794680.0, 1331856000.0],\n",
       "  [1331810340.0, 1331856000.0],\n",
       "  [1331821800.0, 1332028800.0],\n",
       "  [1331892840.0, 1332028800.0],\n",
       "  [1332061200.0, 1332115200.0],\n",
       "  [1332065340.0, 1332201600.0],\n",
       "  [1332140400.0, 1332201600.0],\n",
       "  [1332144000.0, 1332288000.0],\n",
       "  [1332154680.0, 1332201600.0],\n",
       "  [1332156060.0, 1332288000.0],\n",
       "  [1332163200.0, 1332374400.0],\n",
       "  [1332164340.0, 1332374400.0],\n",
       "  [1332172800.0, 1332201600.0],\n",
       "  [1332237600.0, 1332288000.0],\n",
       "  [1332238500.0, 1332288000.0],\n",
       "  [1332259200.0, 1332288000.0],\n",
       "  [1332263040.0, 1332288000.0],\n",
       "  [1332264000.0, 1332374400.0],\n",
       "  [1332324960.0, 1332374400.0],\n",
       "  [1332336000.0, 1332374400.0],\n",
       "  [1332343620.0, 1332374400.0],\n",
       "  [1332487500.0, 1332633600.0],\n",
       "  [1332498600.0, 1332633600.0],\n",
       "  [1332658200.0, 1332720000.0],\n",
       "  [1332666000.0, 1332720000.0],\n",
       "  [1332668940.0, 1332979200.0],\n",
       "  [1332669600.0, 1332720000.0],\n",
       "  [1332775800.0, 1332806400.0],\n",
       "  [1332838800.0, 1332892800.0],\n",
       "  [1332844200.0, 1332892800.0],\n",
       "  [1332854760.0, 1332892800.0],\n",
       "  [1332925800.0, 1332979200.0],\n",
       "  [1332927600.0, 1332979200.0],\n",
       "  [1332930060.0, 1332979200.0],\n",
       "  [1332938280.0, 1333065600.0],\n",
       "  [1332943980.0, 1333065600.0],\n",
       "  [1333008000.0, 1333065600.0],\n",
       "  [1333012800.0, 1333065600.0],\n",
       "  [1333022400.0, 1333065600.0],\n",
       "  [1333023840.0, 1333065600.0],\n",
       "  [1333036620.0, 1333065600.0],\n",
       "  [1333040400.0, 1333065600.0],\n",
       "  [1333065600.0, 1333065600.0]]}"
      ]
     },
     "execution_count": 15,
     "metadata": {},
     "output_type": "execute_result"
    }
   ],
   "source": [
    "from pm4py.statistics.performance_spectrum import algorithm as performance_spectrum\n",
    "ps = performance_spectrum.apply(event_log4, [\"Final Inspection Q.C.\",\"Packing\"], parameters={performance_spectrum.Parameters.ACTIVITY_KEY: \"concept:name\",\n",
    "                                            performance_spectrum.Parameters.TIMESTAMP_KEY: \"time:timestamp\"})\n",
    "ps"
   ]
  },
  {
   "cell_type": "code",
   "execution_count": 16,
   "metadata": {},
   "outputs": [
    {
     "ename": "KeyError",
     "evalue": "'lifecycle:transition'",
     "output_type": "error",
     "traceback": [
      "\u001b[0;31m---------------------------------------------------------------------------\u001b[0m",
      "\u001b[0;31mKeyError\u001b[0m                                  Traceback (most recent call last)",
      "\u001b[0;32m<ipython-input-16-9e7906da1a70>\u001b[0m in \u001b[0;36m<module>\u001b[0;34m\u001b[0m\n\u001b[1;32m      1\u001b[0m \u001b[0;32mfrom\u001b[0m \u001b[0mpm4py\u001b[0m\u001b[0;34m.\u001b[0m\u001b[0mobjects\u001b[0m\u001b[0;34m.\u001b[0m\u001b[0mlog\u001b[0m\u001b[0;34m.\u001b[0m\u001b[0mutil\u001b[0m \u001b[0;32mimport\u001b[0m \u001b[0minterval_lifecycle\u001b[0m\u001b[0;34m\u001b[0m\u001b[0;34m\u001b[0m\u001b[0m\n\u001b[0;32m----> 2\u001b[0;31m \u001b[0menriched_log\u001b[0m \u001b[0;34m=\u001b[0m \u001b[0minterval_lifecycle\u001b[0m\u001b[0;34m.\u001b[0m\u001b[0massign_lead_cycle_time\u001b[0m\u001b[0;34m(\u001b[0m\u001b[0mevent_log4\u001b[0m\u001b[0;34m)\u001b[0m\u001b[0;34m\u001b[0m\u001b[0;34m\u001b[0m\u001b[0m\n\u001b[0m\u001b[1;32m      3\u001b[0m \u001b[0menriched_log\u001b[0m\u001b[0;34m\u001b[0m\u001b[0;34m\u001b[0m\u001b[0m\n",
      "\u001b[0;32m~/opt/anaconda3/lib/python3.7/site-packages/pm4py/objects/log/util/interval_lifecycle.py\u001b[0m in \u001b[0;36massign_lead_cycle_time\u001b[0;34m(log, parameters)\u001b[0m\n\u001b[1;32m    178\u001b[0m     \u001b[0mweekends\u001b[0m \u001b[0;34m=\u001b[0m \u001b[0mparameters\u001b[0m\u001b[0;34m[\u001b[0m\u001b[0;34m\"weekends\"\u001b[0m\u001b[0;34m]\u001b[0m \u001b[0;32mif\u001b[0m \u001b[0;34m\"weekends\"\u001b[0m \u001b[0;32min\u001b[0m \u001b[0mparameters\u001b[0m \u001b[0;32melse\u001b[0m \u001b[0;34m[\u001b[0m\u001b[0;36m6\u001b[0m\u001b[0;34m,\u001b[0m \u001b[0;36m7\u001b[0m\u001b[0;34m]\u001b[0m\u001b[0;34m\u001b[0m\u001b[0;34m\u001b[0m\u001b[0m\n\u001b[1;32m    179\u001b[0m \u001b[0;34m\u001b[0m\u001b[0m\n\u001b[0;32m--> 180\u001b[0;31m     \u001b[0minterval_log\u001b[0m \u001b[0;34m=\u001b[0m \u001b[0mto_interval\u001b[0m\u001b[0;34m(\u001b[0m\u001b[0mlog\u001b[0m\u001b[0;34m,\u001b[0m \u001b[0mparameters\u001b[0m\u001b[0;34m=\u001b[0m\u001b[0mparameters\u001b[0m\u001b[0;34m)\u001b[0m\u001b[0;34m\u001b[0m\u001b[0;34m\u001b[0m\u001b[0m\n\u001b[0m\u001b[1;32m    181\u001b[0m \u001b[0;34m\u001b[0m\u001b[0m\n\u001b[1;32m    182\u001b[0m     \u001b[0;32mfor\u001b[0m \u001b[0mtrace\u001b[0m \u001b[0;32min\u001b[0m \u001b[0minterval_log\u001b[0m\u001b[0;34m:\u001b[0m\u001b[0;34m\u001b[0m\u001b[0;34m\u001b[0m\u001b[0m\n",
      "\u001b[0;32m~/opt/anaconda3/lib/python3.7/site-packages/pm4py/objects/log/util/interval_lifecycle.py\u001b[0m in \u001b[0;36mto_interval\u001b[0;34m(log, parameters)\u001b[0m\n\u001b[1;32m     56\u001b[0m             \u001b[0;32mfor\u001b[0m \u001b[0mevent\u001b[0m \u001b[0;32min\u001b[0m \u001b[0mtrace\u001b[0m\u001b[0;34m:\u001b[0m\u001b[0;34m\u001b[0m\u001b[0;34m\u001b[0m\u001b[0m\n\u001b[1;32m     57\u001b[0m                 \u001b[0mactivity\u001b[0m \u001b[0;34m=\u001b[0m \u001b[0mevent\u001b[0m\u001b[0;34m[\u001b[0m\u001b[0mactivity_key\u001b[0m\u001b[0;34m]\u001b[0m\u001b[0;34m\u001b[0m\u001b[0;34m\u001b[0m\u001b[0m\n\u001b[0;32m---> 58\u001b[0;31m                 \u001b[0mtransition\u001b[0m \u001b[0;34m=\u001b[0m \u001b[0mevent\u001b[0m\u001b[0;34m[\u001b[0m\u001b[0mtransition_key\u001b[0m\u001b[0;34m]\u001b[0m\u001b[0;34m\u001b[0m\u001b[0;34m\u001b[0m\u001b[0m\n\u001b[0m\u001b[1;32m     59\u001b[0m                 \u001b[0mtimestamp\u001b[0m \u001b[0;34m=\u001b[0m \u001b[0mevent\u001b[0m\u001b[0;34m[\u001b[0m\u001b[0mtimestamp_key\u001b[0m\u001b[0;34m]\u001b[0m\u001b[0;34m\u001b[0m\u001b[0;34m\u001b[0m\u001b[0m\n\u001b[1;32m     60\u001b[0m                 \u001b[0;32mif\u001b[0m \u001b[0mtransition\u001b[0m\u001b[0;34m.\u001b[0m\u001b[0mlower\u001b[0m\u001b[0;34m(\u001b[0m\u001b[0;34m)\u001b[0m \u001b[0;34m==\u001b[0m \u001b[0;34m\"start\"\u001b[0m\u001b[0;34m:\u001b[0m\u001b[0;34m\u001b[0m\u001b[0;34m\u001b[0m\u001b[0m\n",
      "\u001b[0;31mKeyError\u001b[0m: 'lifecycle:transition'"
     ]
    }
   ],
   "source": [
    "from pm4py.objects.log.util import interval_lifecycle\n",
    "enriched_log = interval_lifecycle.assign_lead_cycle_time(event_log4)\n",
    "enriched_log"
   ]
  },
  {
   "cell_type": "code",
   "execution_count": null,
   "metadata": {},
   "outputs": [],
   "source": [
    "from pm4py.statistics.sojourn_time.log import get as soj_time_get\n",
    "\n",
    "soj_time = soj_time_get.apply(event_log4, parameters={soj_time_get.Parameters.TIMESTAMP_KEY: \"time:timestamp\", soj_time_get.Parameters.START_TIMESTAMP_KEY: \"start_timestamp\"})\n",
    "print(soj_time)"
   ]
  },
  {
   "cell_type": "code",
   "execution_count": 1,
   "metadata": {},
   "outputs": [
    {
     "ename": "NameError",
     "evalue": "name 'ltl' is not defined",
     "output_type": "error",
     "traceback": [
      "\u001b[0;31m---------------------------------------------------------------------------\u001b[0m",
      "\u001b[0;31mNameError\u001b[0m                                 Traceback (most recent call last)",
      "\u001b[0;32m<ipython-input-1-c4e830099263>\u001b[0m in \u001b[0;36m<module>\u001b[0;34m\u001b[0m\n\u001b[0;32m----> 1\u001b[0;31m \u001b[0mltl\u001b[0m\u001b[0;34m.\u001b[0m\u001b[0mltl_checker\u001b[0m\u001b[0;34m.\u001b[0m\u001b[0mA_eventually_B\u001b[0m\u001b[0;34m(\u001b[0m\u001b[0mlog\u001b[0m\u001b[0;34m,\u001b[0m \u001b[0mA\u001b[0m\u001b[0;34m,\u001b[0m \u001b[0mB\u001b[0m\u001b[0;34m)\u001b[0m\u001b[0;34m\u001b[0m\u001b[0;34m\u001b[0m\u001b[0m\n\u001b[0m",
      "\u001b[0;31mNameError\u001b[0m: name 'ltl' is not defined"
     ]
    }
   ],
   "source": []
  },
  {
   "cell_type": "code",
   "execution_count": 22,
   "metadata": {},
   "outputs": [],
   "source": [
    "import pm4py.algo.filtering.log.ltl  as ltl\n",
    "import pm4py.algo.filtering.pandas.ltl as ltl2\n",
    "import pandas as pd\n",
    "\n",
    "from pm4py.objects.conversion.log import factory as conversion_factory\n",
    "from pm4py.util import constants\n",
    "\n",
    "from pm4py.objects.log.util import sorting"
   ]
  },
  {
   "cell_type": "code",
   "execution_count": 38,
   "metadata": {},
   "outputs": [
    {
     "name": "stderr",
     "output_type": "stream",
     "text": [
      "/Users/deepak/opt/anaconda3/lib/python3.7/site-packages/ipykernel_launcher.py:6: DeprecatedWarning: apply is deprecated as of 1.3.0 and will be removed in 2.0.0. Use algorithm entrypoint instead\n",
      "  \n"
     ]
    },
    {
     "name": "stdout",
     "output_type": "stream",
     "text": [
      "Log imported\n",
      "\n",
      "\n",
      "\n"
     ]
    }
   ],
   "source": [
    "log_csv = pd.read_csv('Production_Data.csv', sep=',')\n",
    "log = conversion_factory.apply(log_csv, parameters={constants.PARAMETER_CONSTANT_CASEID_KEY: \"Case ID\",\n",
    "                                               constants.PARAMETER_CONSTANT_ACTIVITY_KEY: \"Activity\",\n",
    "                                                constants.PARAMETER_CONSTANT_START_TIMESTAMP_KEY:\"Start Timestamp\",\n",
    "                                                constants.PARAMETER_CONSTANT_RESOURCE_KEY:\"Resource\",\n",
    "                                                constants.PARAMETER_CONSTANT_TIMESTAMP_KEY:\"Complete Timestamp\"\n",
    "                                               })\n",
    "print(\"Log imported\\n\\n\\n\")\n",
    "\n",
    "logSorted = sorting.sort_timestamp(log,\"Start Timestamp\", False)"
   ]
  },
  {
   "cell_type": "code",
   "execution_count": 39,
   "metadata": {},
   "outputs": [
    {
     "ename": "KeyError",
     "evalue": "'concept:name'",
     "output_type": "error",
     "traceback": [
      "\u001b[0;31m---------------------------------------------------------------------------\u001b[0m",
      "\u001b[0;31mKeyError\u001b[0m                                  Traceback (most recent call last)",
      "\u001b[0;32m<ipython-input-39-5d88938e4145>\u001b[0m in \u001b[0;36m<module>\u001b[0;34m\u001b[0m\n\u001b[1;32m      2\u001b[0m \u001b[0;32mfrom\u001b[0m \u001b[0mpm4py\u001b[0m\u001b[0;34m.\u001b[0m\u001b[0malgo\u001b[0m\u001b[0;34m.\u001b[0m\u001b[0mdiscovery\u001b[0m\u001b[0;34m.\u001b[0m\u001b[0minductive\u001b[0m \u001b[0;32mimport\u001b[0m \u001b[0malgorithm\u001b[0m \u001b[0;32mas\u001b[0m \u001b[0minductive_miner\u001b[0m\u001b[0;34m\u001b[0m\u001b[0;34m\u001b[0m\u001b[0m\n\u001b[1;32m      3\u001b[0m \u001b[0;34m\u001b[0m\u001b[0m\n\u001b[0;32m----> 4\u001b[0;31m \u001b[0mnet\u001b[0m\u001b[0;34m,\u001b[0m \u001b[0minitial_marking\u001b[0m\u001b[0;34m,\u001b[0m \u001b[0mfinal_marking\u001b[0m \u001b[0;34m=\u001b[0m \u001b[0minductive_miner\u001b[0m\u001b[0;34m.\u001b[0m\u001b[0mapply\u001b[0m\u001b[0;34m(\u001b[0m\u001b[0mlogSorted\u001b[0m\u001b[0;34m)\u001b[0m\u001b[0;34m\u001b[0m\u001b[0;34m\u001b[0m\u001b[0m\n\u001b[0m\u001b[1;32m      5\u001b[0m \u001b[0;32mfrom\u001b[0m \u001b[0mpm4py\u001b[0m\u001b[0;34m.\u001b[0m\u001b[0mvisualization\u001b[0m\u001b[0;34m.\u001b[0m\u001b[0mpetrinet\u001b[0m \u001b[0;32mimport\u001b[0m \u001b[0mvisualizer\u001b[0m \u001b[0;32mas\u001b[0m \u001b[0mpn_visualizer\u001b[0m\u001b[0;34m\u001b[0m\u001b[0;34m\u001b[0m\u001b[0m\n\u001b[1;32m      6\u001b[0m \u001b[0mgviz\u001b[0m \u001b[0;34m=\u001b[0m \u001b[0mpn_visualizer\u001b[0m\u001b[0;34m.\u001b[0m\u001b[0mapply\u001b[0m\u001b[0;34m(\u001b[0m\u001b[0mnet\u001b[0m\u001b[0;34m,\u001b[0m \u001b[0minitial_marking\u001b[0m\u001b[0;34m,\u001b[0m \u001b[0mfinal_marking\u001b[0m\u001b[0;34m)\u001b[0m\u001b[0;34m\u001b[0m\u001b[0;34m\u001b[0m\u001b[0m\n",
      "\u001b[0;32m~/opt/anaconda3/lib/python3.7/site-packages/pm4py/algo/discovery/inductive/algorithm.py\u001b[0m in \u001b[0;36mapply\u001b[0;34m(log, parameters, variant)\u001b[0m\n\u001b[1;32m     40\u001b[0m         \u001b[0mFinal\u001b[0m \u001b[0mmarking\u001b[0m\u001b[0;34m\u001b[0m\u001b[0;34m\u001b[0m\u001b[0m\n\u001b[1;32m     41\u001b[0m     \"\"\"\n\u001b[0;32m---> 42\u001b[0;31m     \u001b[0;32mreturn\u001b[0m \u001b[0mexec_utils\u001b[0m\u001b[0;34m.\u001b[0m\u001b[0mget_variant\u001b[0m\u001b[0;34m(\u001b[0m\u001b[0mvariant\u001b[0m\u001b[0;34m)\u001b[0m\u001b[0;34m.\u001b[0m\u001b[0mapply\u001b[0m\u001b[0;34m(\u001b[0m\u001b[0mlog\u001b[0m\u001b[0;34m,\u001b[0m \u001b[0mparameters\u001b[0m\u001b[0;34m=\u001b[0m\u001b[0mparameters\u001b[0m\u001b[0;34m)\u001b[0m\u001b[0;34m\u001b[0m\u001b[0;34m\u001b[0m\u001b[0m\n\u001b[0m\u001b[1;32m     43\u001b[0m \u001b[0;34m\u001b[0m\u001b[0m\n\u001b[1;32m     44\u001b[0m \u001b[0;34m\u001b[0m\u001b[0m\n",
      "\u001b[0;32m~/opt/anaconda3/lib/python3.7/site-packages/pm4py/algo/discovery/inductive/versions/dfg/dfg_based.py\u001b[0m in \u001b[0;36mapply\u001b[0;34m(log, parameters)\u001b[0m\n\u001b[1;32m     61\u001b[0m         \u001b[0;32mreturn\u001b[0m \u001b[0mapply_dfg\u001b[0m\u001b[0;34m(\u001b[0m\u001b[0mdfg\u001b[0m\u001b[0;34m,\u001b[0m \u001b[0mactivities\u001b[0m\u001b[0;34m=\u001b[0m\u001b[0mactivities\u001b[0m\u001b[0;34m,\u001b[0m \u001b[0mstart_activities\u001b[0m\u001b[0;34m=\u001b[0m\u001b[0mstart_activities\u001b[0m\u001b[0;34m,\u001b[0m \u001b[0mend_activities\u001b[0m\u001b[0;34m=\u001b[0m\u001b[0mend_activities\u001b[0m\u001b[0;34m,\u001b[0m \u001b[0mparameters\u001b[0m\u001b[0;34m=\u001b[0m\u001b[0mparameters\u001b[0m\u001b[0;34m)\u001b[0m\u001b[0;34m\u001b[0m\u001b[0;34m\u001b[0m\u001b[0m\n\u001b[1;32m     62\u001b[0m     \u001b[0mlog\u001b[0m \u001b[0;34m=\u001b[0m \u001b[0mlog_conversion\u001b[0m\u001b[0;34m.\u001b[0m\u001b[0mapply\u001b[0m\u001b[0;34m(\u001b[0m\u001b[0mlog\u001b[0m\u001b[0;34m,\u001b[0m \u001b[0mparameters\u001b[0m\u001b[0;34m,\u001b[0m \u001b[0mlog_conversion\u001b[0m\u001b[0;34m.\u001b[0m\u001b[0mTO_EVENT_LOG\u001b[0m\u001b[0;34m)\u001b[0m\u001b[0;34m\u001b[0m\u001b[0;34m\u001b[0m\u001b[0m\n\u001b[0;32m---> 63\u001b[0;31m     \u001b[0mtree\u001b[0m \u001b[0;34m=\u001b[0m \u001b[0mapply_tree\u001b[0m\u001b[0;34m(\u001b[0m\u001b[0mlog\u001b[0m\u001b[0;34m,\u001b[0m \u001b[0mparameters\u001b[0m\u001b[0;34m=\u001b[0m\u001b[0mparameters\u001b[0m\u001b[0;34m)\u001b[0m\u001b[0;34m\u001b[0m\u001b[0;34m\u001b[0m\u001b[0m\n\u001b[0m\u001b[1;32m     64\u001b[0m     \u001b[0mnet\u001b[0m\u001b[0;34m,\u001b[0m \u001b[0minitial_marking\u001b[0m\u001b[0;34m,\u001b[0m \u001b[0mfinal_marking\u001b[0m \u001b[0;34m=\u001b[0m \u001b[0mtree_to_petri\u001b[0m\u001b[0;34m.\u001b[0m\u001b[0mapply\u001b[0m\u001b[0;34m(\u001b[0m\u001b[0mtree\u001b[0m\u001b[0;34m)\u001b[0m\u001b[0;34m\u001b[0m\u001b[0;34m\u001b[0m\u001b[0m\n\u001b[1;32m     65\u001b[0m     \u001b[0;32mreturn\u001b[0m \u001b[0mnet\u001b[0m\u001b[0;34m,\u001b[0m \u001b[0minitial_marking\u001b[0m\u001b[0;34m,\u001b[0m \u001b[0mfinal_marking\u001b[0m\u001b[0;34m\u001b[0m\u001b[0;34m\u001b[0m\u001b[0m\n",
      "\u001b[0;32m~/opt/anaconda3/lib/python3.7/site-packages/pm4py/algo/discovery/inductive/versions/dfg/dfg_based.py\u001b[0m in \u001b[0;36mapply_tree\u001b[0;34m(log, parameters)\u001b[0m\n\u001b[1;32m    143\u001b[0m     \u001b[0;31m# get the DFG\u001b[0m\u001b[0;34m\u001b[0m\u001b[0;34m\u001b[0m\u001b[0;34m\u001b[0m\u001b[0m\n\u001b[1;32m    144\u001b[0m     dfg = [(k, v) for k, v in dfg_inst.apply(log, parameters={\n\u001b[0;32m--> 145\u001b[0;31m         pmutil.constants.PARAMETER_CONSTANT_ACTIVITY_KEY: activity_key}).items() if v > 0]\n\u001b[0m\u001b[1;32m    146\u001b[0m \u001b[0;34m\u001b[0m\u001b[0m\n\u001b[1;32m    147\u001b[0m     \u001b[0;31m# gets the start activities from the log\u001b[0m\u001b[0;34m\u001b[0m\u001b[0;34m\u001b[0m\u001b[0;34m\u001b[0m\u001b[0m\n",
      "\u001b[0;32m~/opt/anaconda3/lib/python3.7/site-packages/pm4py/algo/discovery/dfg/versions/native.py\u001b[0m in \u001b[0;36mapply\u001b[0;34m(log, parameters)\u001b[0m\n\u001b[1;32m     19\u001b[0m         \u001b[0mDFG\u001b[0m \u001b[0mgraph\u001b[0m\u001b[0;34m\u001b[0m\u001b[0;34m\u001b[0m\u001b[0m\n\u001b[1;32m     20\u001b[0m     \"\"\"\n\u001b[0;32m---> 21\u001b[0;31m     \u001b[0;32mreturn\u001b[0m \u001b[0mlog_calc\u001b[0m\u001b[0;34m.\u001b[0m\u001b[0mnative\u001b[0m\u001b[0;34m(\u001b[0m\u001b[0mlog\u001b[0m\u001b[0;34m,\u001b[0m \u001b[0mparameters\u001b[0m\u001b[0;34m=\u001b[0m\u001b[0mparameters\u001b[0m\u001b[0;34m)\u001b[0m\u001b[0;34m\u001b[0m\u001b[0;34m\u001b[0m\u001b[0m\n\u001b[0m",
      "\u001b[0;32m~/opt/anaconda3/lib/python3.7/site-packages/pm4py/objects/dfg/retrieval/log.py\u001b[0m in \u001b[0;36mnative\u001b[0;34m(log, parameters)\u001b[0m\n\u001b[1;32m     63\u001b[0m     \u001b[0mwindow\u001b[0m \u001b[0;34m=\u001b[0m \u001b[0mexec_utils\u001b[0m\u001b[0;34m.\u001b[0m\u001b[0mget_param_value\u001b[0m\u001b[0;34m(\u001b[0m\u001b[0mParameters\u001b[0m\u001b[0;34m.\u001b[0m\u001b[0mWINDOW\u001b[0m\u001b[0;34m,\u001b[0m \u001b[0mparameters\u001b[0m\u001b[0;34m,\u001b[0m \u001b[0;36m1\u001b[0m\u001b[0;34m)\u001b[0m\u001b[0;34m\u001b[0m\u001b[0;34m\u001b[0m\u001b[0m\n\u001b[1;32m     64\u001b[0m     \u001b[0mdfgs\u001b[0m \u001b[0;34m=\u001b[0m \u001b[0mmap\u001b[0m\u001b[0;34m(\u001b[0m\u001b[0;34m(\u001b[0m\u001b[0;32mlambda\u001b[0m \u001b[0mt\u001b[0m\u001b[0;34m:\u001b[0m \u001b[0;34m[\u001b[0m\u001b[0;34m(\u001b[0m\u001b[0mt\u001b[0m\u001b[0;34m[\u001b[0m\u001b[0mi\u001b[0m \u001b[0;34m-\u001b[0m \u001b[0mwindow\u001b[0m\u001b[0;34m]\u001b[0m\u001b[0;34m[\u001b[0m\u001b[0mactivity_key\u001b[0m\u001b[0;34m]\u001b[0m\u001b[0;34m,\u001b[0m \u001b[0mt\u001b[0m\u001b[0;34m[\u001b[0m\u001b[0mi\u001b[0m\u001b[0;34m]\u001b[0m\u001b[0;34m[\u001b[0m\u001b[0mactivity_key\u001b[0m\u001b[0;34m]\u001b[0m\u001b[0;34m)\u001b[0m \u001b[0;32mfor\u001b[0m \u001b[0mi\u001b[0m \u001b[0;32min\u001b[0m \u001b[0mrange\u001b[0m\u001b[0;34m(\u001b[0m\u001b[0mwindow\u001b[0m\u001b[0;34m,\u001b[0m \u001b[0mlen\u001b[0m\u001b[0;34m(\u001b[0m\u001b[0mt\u001b[0m\u001b[0;34m)\u001b[0m\u001b[0;34m)\u001b[0m\u001b[0;34m]\u001b[0m\u001b[0;34m)\u001b[0m\u001b[0;34m,\u001b[0m \u001b[0mlog\u001b[0m\u001b[0;34m)\u001b[0m\u001b[0;34m\u001b[0m\u001b[0;34m\u001b[0m\u001b[0m\n\u001b[0;32m---> 65\u001b[0;31m     \u001b[0;32mreturn\u001b[0m \u001b[0mCounter\u001b[0m\u001b[0;34m(\u001b[0m\u001b[0;34m[\u001b[0m\u001b[0mdfg\u001b[0m \u001b[0;32mfor\u001b[0m \u001b[0mlista\u001b[0m \u001b[0;32min\u001b[0m \u001b[0mdfgs\u001b[0m \u001b[0;32mfor\u001b[0m \u001b[0mdfg\u001b[0m \u001b[0;32min\u001b[0m \u001b[0mlista\u001b[0m\u001b[0;34m]\u001b[0m\u001b[0;34m)\u001b[0m\u001b[0;34m\u001b[0m\u001b[0;34m\u001b[0m\u001b[0m\n\u001b[0m\u001b[1;32m     66\u001b[0m \u001b[0;34m\u001b[0m\u001b[0m\n\u001b[1;32m     67\u001b[0m \u001b[0;34m\u001b[0m\u001b[0m\n",
      "\u001b[0;32m~/opt/anaconda3/lib/python3.7/site-packages/pm4py/objects/dfg/retrieval/log.py\u001b[0m in \u001b[0;36m<listcomp>\u001b[0;34m(.0)\u001b[0m\n\u001b[1;32m     63\u001b[0m     \u001b[0mwindow\u001b[0m \u001b[0;34m=\u001b[0m \u001b[0mexec_utils\u001b[0m\u001b[0;34m.\u001b[0m\u001b[0mget_param_value\u001b[0m\u001b[0;34m(\u001b[0m\u001b[0mParameters\u001b[0m\u001b[0;34m.\u001b[0m\u001b[0mWINDOW\u001b[0m\u001b[0;34m,\u001b[0m \u001b[0mparameters\u001b[0m\u001b[0;34m,\u001b[0m \u001b[0;36m1\u001b[0m\u001b[0;34m)\u001b[0m\u001b[0;34m\u001b[0m\u001b[0;34m\u001b[0m\u001b[0m\n\u001b[1;32m     64\u001b[0m     \u001b[0mdfgs\u001b[0m \u001b[0;34m=\u001b[0m \u001b[0mmap\u001b[0m\u001b[0;34m(\u001b[0m\u001b[0;34m(\u001b[0m\u001b[0;32mlambda\u001b[0m \u001b[0mt\u001b[0m\u001b[0;34m:\u001b[0m \u001b[0;34m[\u001b[0m\u001b[0;34m(\u001b[0m\u001b[0mt\u001b[0m\u001b[0;34m[\u001b[0m\u001b[0mi\u001b[0m \u001b[0;34m-\u001b[0m \u001b[0mwindow\u001b[0m\u001b[0;34m]\u001b[0m\u001b[0;34m[\u001b[0m\u001b[0mactivity_key\u001b[0m\u001b[0;34m]\u001b[0m\u001b[0;34m,\u001b[0m \u001b[0mt\u001b[0m\u001b[0;34m[\u001b[0m\u001b[0mi\u001b[0m\u001b[0;34m]\u001b[0m\u001b[0;34m[\u001b[0m\u001b[0mactivity_key\u001b[0m\u001b[0;34m]\u001b[0m\u001b[0;34m)\u001b[0m \u001b[0;32mfor\u001b[0m \u001b[0mi\u001b[0m \u001b[0;32min\u001b[0m \u001b[0mrange\u001b[0m\u001b[0;34m(\u001b[0m\u001b[0mwindow\u001b[0m\u001b[0;34m,\u001b[0m \u001b[0mlen\u001b[0m\u001b[0;34m(\u001b[0m\u001b[0mt\u001b[0m\u001b[0;34m)\u001b[0m\u001b[0;34m)\u001b[0m\u001b[0;34m]\u001b[0m\u001b[0;34m)\u001b[0m\u001b[0;34m,\u001b[0m \u001b[0mlog\u001b[0m\u001b[0;34m)\u001b[0m\u001b[0;34m\u001b[0m\u001b[0;34m\u001b[0m\u001b[0m\n\u001b[0;32m---> 65\u001b[0;31m     \u001b[0;32mreturn\u001b[0m \u001b[0mCounter\u001b[0m\u001b[0;34m(\u001b[0m\u001b[0;34m[\u001b[0m\u001b[0mdfg\u001b[0m \u001b[0;32mfor\u001b[0m \u001b[0mlista\u001b[0m \u001b[0;32min\u001b[0m \u001b[0mdfgs\u001b[0m \u001b[0;32mfor\u001b[0m \u001b[0mdfg\u001b[0m \u001b[0;32min\u001b[0m \u001b[0mlista\u001b[0m\u001b[0;34m]\u001b[0m\u001b[0;34m)\u001b[0m\u001b[0;34m\u001b[0m\u001b[0;34m\u001b[0m\u001b[0m\n\u001b[0m\u001b[1;32m     66\u001b[0m \u001b[0;34m\u001b[0m\u001b[0m\n\u001b[1;32m     67\u001b[0m \u001b[0;34m\u001b[0m\u001b[0m\n",
      "\u001b[0;32m~/opt/anaconda3/lib/python3.7/site-packages/pm4py/objects/dfg/retrieval/log.py\u001b[0m in \u001b[0;36m<lambda>\u001b[0;34m(t)\u001b[0m\n\u001b[1;32m     62\u001b[0m     \u001b[0mactivity_key\u001b[0m \u001b[0;34m=\u001b[0m \u001b[0mexec_utils\u001b[0m\u001b[0;34m.\u001b[0m\u001b[0mget_param_value\u001b[0m\u001b[0;34m(\u001b[0m\u001b[0mParameters\u001b[0m\u001b[0;34m.\u001b[0m\u001b[0mACTIVITY_KEY\u001b[0m\u001b[0;34m,\u001b[0m \u001b[0mparameters\u001b[0m\u001b[0;34m,\u001b[0m \u001b[0mxes_util\u001b[0m\u001b[0;34m.\u001b[0m\u001b[0mDEFAULT_NAME_KEY\u001b[0m\u001b[0;34m)\u001b[0m\u001b[0;34m\u001b[0m\u001b[0;34m\u001b[0m\u001b[0m\n\u001b[1;32m     63\u001b[0m     \u001b[0mwindow\u001b[0m \u001b[0;34m=\u001b[0m \u001b[0mexec_utils\u001b[0m\u001b[0;34m.\u001b[0m\u001b[0mget_param_value\u001b[0m\u001b[0;34m(\u001b[0m\u001b[0mParameters\u001b[0m\u001b[0;34m.\u001b[0m\u001b[0mWINDOW\u001b[0m\u001b[0;34m,\u001b[0m \u001b[0mparameters\u001b[0m\u001b[0;34m,\u001b[0m \u001b[0;36m1\u001b[0m\u001b[0;34m)\u001b[0m\u001b[0;34m\u001b[0m\u001b[0;34m\u001b[0m\u001b[0m\n\u001b[0;32m---> 64\u001b[0;31m     \u001b[0mdfgs\u001b[0m \u001b[0;34m=\u001b[0m \u001b[0mmap\u001b[0m\u001b[0;34m(\u001b[0m\u001b[0;34m(\u001b[0m\u001b[0;32mlambda\u001b[0m \u001b[0mt\u001b[0m\u001b[0;34m:\u001b[0m \u001b[0;34m[\u001b[0m\u001b[0;34m(\u001b[0m\u001b[0mt\u001b[0m\u001b[0;34m[\u001b[0m\u001b[0mi\u001b[0m \u001b[0;34m-\u001b[0m \u001b[0mwindow\u001b[0m\u001b[0;34m]\u001b[0m\u001b[0;34m[\u001b[0m\u001b[0mactivity_key\u001b[0m\u001b[0;34m]\u001b[0m\u001b[0;34m,\u001b[0m \u001b[0mt\u001b[0m\u001b[0;34m[\u001b[0m\u001b[0mi\u001b[0m\u001b[0;34m]\u001b[0m\u001b[0;34m[\u001b[0m\u001b[0mactivity_key\u001b[0m\u001b[0;34m]\u001b[0m\u001b[0;34m)\u001b[0m \u001b[0;32mfor\u001b[0m \u001b[0mi\u001b[0m \u001b[0;32min\u001b[0m \u001b[0mrange\u001b[0m\u001b[0;34m(\u001b[0m\u001b[0mwindow\u001b[0m\u001b[0;34m,\u001b[0m \u001b[0mlen\u001b[0m\u001b[0;34m(\u001b[0m\u001b[0mt\u001b[0m\u001b[0;34m)\u001b[0m\u001b[0;34m)\u001b[0m\u001b[0;34m]\u001b[0m\u001b[0;34m)\u001b[0m\u001b[0;34m,\u001b[0m \u001b[0mlog\u001b[0m\u001b[0;34m)\u001b[0m\u001b[0;34m\u001b[0m\u001b[0;34m\u001b[0m\u001b[0m\n\u001b[0m\u001b[1;32m     65\u001b[0m     \u001b[0;32mreturn\u001b[0m \u001b[0mCounter\u001b[0m\u001b[0;34m(\u001b[0m\u001b[0;34m[\u001b[0m\u001b[0mdfg\u001b[0m \u001b[0;32mfor\u001b[0m \u001b[0mlista\u001b[0m \u001b[0;32min\u001b[0m \u001b[0mdfgs\u001b[0m \u001b[0;32mfor\u001b[0m \u001b[0mdfg\u001b[0m \u001b[0;32min\u001b[0m \u001b[0mlista\u001b[0m\u001b[0;34m]\u001b[0m\u001b[0;34m)\u001b[0m\u001b[0;34m\u001b[0m\u001b[0;34m\u001b[0m\u001b[0m\n\u001b[1;32m     66\u001b[0m \u001b[0;34m\u001b[0m\u001b[0m\n",
      "\u001b[0;32m~/opt/anaconda3/lib/python3.7/site-packages/pm4py/objects/dfg/retrieval/log.py\u001b[0m in \u001b[0;36m<listcomp>\u001b[0;34m(.0)\u001b[0m\n\u001b[1;32m     62\u001b[0m     \u001b[0mactivity_key\u001b[0m \u001b[0;34m=\u001b[0m \u001b[0mexec_utils\u001b[0m\u001b[0;34m.\u001b[0m\u001b[0mget_param_value\u001b[0m\u001b[0;34m(\u001b[0m\u001b[0mParameters\u001b[0m\u001b[0;34m.\u001b[0m\u001b[0mACTIVITY_KEY\u001b[0m\u001b[0;34m,\u001b[0m \u001b[0mparameters\u001b[0m\u001b[0;34m,\u001b[0m \u001b[0mxes_util\u001b[0m\u001b[0;34m.\u001b[0m\u001b[0mDEFAULT_NAME_KEY\u001b[0m\u001b[0;34m)\u001b[0m\u001b[0;34m\u001b[0m\u001b[0;34m\u001b[0m\u001b[0m\n\u001b[1;32m     63\u001b[0m     \u001b[0mwindow\u001b[0m \u001b[0;34m=\u001b[0m \u001b[0mexec_utils\u001b[0m\u001b[0;34m.\u001b[0m\u001b[0mget_param_value\u001b[0m\u001b[0;34m(\u001b[0m\u001b[0mParameters\u001b[0m\u001b[0;34m.\u001b[0m\u001b[0mWINDOW\u001b[0m\u001b[0;34m,\u001b[0m \u001b[0mparameters\u001b[0m\u001b[0;34m,\u001b[0m \u001b[0;36m1\u001b[0m\u001b[0;34m)\u001b[0m\u001b[0;34m\u001b[0m\u001b[0;34m\u001b[0m\u001b[0m\n\u001b[0;32m---> 64\u001b[0;31m     \u001b[0mdfgs\u001b[0m \u001b[0;34m=\u001b[0m \u001b[0mmap\u001b[0m\u001b[0;34m(\u001b[0m\u001b[0;34m(\u001b[0m\u001b[0;32mlambda\u001b[0m \u001b[0mt\u001b[0m\u001b[0;34m:\u001b[0m \u001b[0;34m[\u001b[0m\u001b[0;34m(\u001b[0m\u001b[0mt\u001b[0m\u001b[0;34m[\u001b[0m\u001b[0mi\u001b[0m \u001b[0;34m-\u001b[0m \u001b[0mwindow\u001b[0m\u001b[0;34m]\u001b[0m\u001b[0;34m[\u001b[0m\u001b[0mactivity_key\u001b[0m\u001b[0;34m]\u001b[0m\u001b[0;34m,\u001b[0m \u001b[0mt\u001b[0m\u001b[0;34m[\u001b[0m\u001b[0mi\u001b[0m\u001b[0;34m]\u001b[0m\u001b[0;34m[\u001b[0m\u001b[0mactivity_key\u001b[0m\u001b[0;34m]\u001b[0m\u001b[0;34m)\u001b[0m \u001b[0;32mfor\u001b[0m \u001b[0mi\u001b[0m \u001b[0;32min\u001b[0m \u001b[0mrange\u001b[0m\u001b[0;34m(\u001b[0m\u001b[0mwindow\u001b[0m\u001b[0;34m,\u001b[0m \u001b[0mlen\u001b[0m\u001b[0;34m(\u001b[0m\u001b[0mt\u001b[0m\u001b[0;34m)\u001b[0m\u001b[0;34m)\u001b[0m\u001b[0;34m]\u001b[0m\u001b[0;34m)\u001b[0m\u001b[0;34m,\u001b[0m \u001b[0mlog\u001b[0m\u001b[0;34m)\u001b[0m\u001b[0;34m\u001b[0m\u001b[0;34m\u001b[0m\u001b[0m\n\u001b[0m\u001b[1;32m     65\u001b[0m     \u001b[0;32mreturn\u001b[0m \u001b[0mCounter\u001b[0m\u001b[0;34m(\u001b[0m\u001b[0;34m[\u001b[0m\u001b[0mdfg\u001b[0m \u001b[0;32mfor\u001b[0m \u001b[0mlista\u001b[0m \u001b[0;32min\u001b[0m \u001b[0mdfgs\u001b[0m \u001b[0;32mfor\u001b[0m \u001b[0mdfg\u001b[0m \u001b[0;32min\u001b[0m \u001b[0mlista\u001b[0m\u001b[0;34m]\u001b[0m\u001b[0;34m)\u001b[0m\u001b[0;34m\u001b[0m\u001b[0;34m\u001b[0m\u001b[0m\n\u001b[1;32m     66\u001b[0m \u001b[0;34m\u001b[0m\u001b[0m\n",
      "\u001b[0;31mKeyError\u001b[0m: 'concept:name'"
     ]
    }
   ],
   "source": [
    "import os\n",
    "from pm4py.algo.discovery.inductive import algorithm as inductive_miner\n",
    "\n",
    "net, initial_marking, final_marking = inductive_miner.apply(logSorted)\n",
    "from pm4py.visualization.petrinet import visualizer as pn_visualizer\n",
    "gviz = pn_visualizer.apply(net, initial_marking, final_marking)\n",
    "pn_visualizer.view(gviz)"
   ]
  },
  {
   "cell_type": "code",
   "execution_count": 32,
   "metadata": {},
   "outputs": [
    {
     "name": "stderr",
     "output_type": "stream",
     "text": [
      "/Users/deepak/opt/anaconda3/lib/python3.7/site-packages/ipykernel_launcher.py:10: DeprecatedWarning: apply is deprecated as of 1.3.0 and will be removed in 2.0.0. Use algorithm entrypoint instead\n",
      "  # Remove the CWD from sys.path while we load stuff.\n"
     ]
    }
   ],
   "source": [
    "import os\n",
    "from pm4py.objects.log.adapters.pandas import csv_import_adapter\n",
    "from pm4py.objects.conversion.log import factory as conversion_factory\n",
    "from pm4py.util import constants\n",
    "dataframe = csv_import_adapter.import_dataframe_from_path('Production_Data.csv', sep=\",\")\n",
    "log = conversion_factory.apply(dataframe, parameters={constants.PARAMETER_CONSTANT_CASEID_KEY: \"Case ID\",\n",
    "                                               constants.PARAMETER_CONSTANT_ACTIVITY_KEY: \"Activity\",\n",
    "                                                constants.PARAMETER_CONSTANT_START_TIMESTAMP_KEY:\"Start Timestamp\",\n",
    "                                                constants.PARAMETER_CONSTANT_RESOURCE_KEY:\"Resource\",\n",
    "                                                constants.PARAMETER_CONSTANT_TIMESTAMP_KEY:\"Complete Timestamp\"\n",
    "                                               })"
   ]
  },
  {
   "cell_type": "code",
   "execution_count": 34,
   "metadata": {},
   "outputs": [
    {
     "name": "stdout",
     "output_type": "stream",
     "text": [
      "[]\n"
     ]
    }
   ],
   "source": [
    "A='Packing'\n",
    "B='Final Inspection Q.C.'\n",
    "print(ltl.ltl_checker.A_eventually_B(log, A, B))\n"
   ]
  },
  {
   "cell_type": "code",
   "execution_count": 35,
   "metadata": {},
   "outputs": [
    {
     "data": {
      "text/plain": [
       "[{'attributes': {'concept:name': 'Case 1'}, 'events': [{'Case ID': 'Case 1', 'Activity': 'Turning & Milling - Machine 4', 'Resource': 'Machine 4 - Turning & Milling', 'Start Timestamp': Timestamp('2012-01-29 23:24:00+0000', tz='UTC'), 'Complete Timestamp': Timestamp('2012-01-30 05:43:00+0000', tz='UTC'), 'Span': '006:19', 'Work Order  Qty': 10, 'Part Desc.': 'Cable Head', 'Worker ID': 'ID4932', 'Report Type': 'S', 'Qty Completed': 1, 'Qty Rejected': 0, 'Qty for MRB': 0, 'Rework': nan, 'duration': '19:00.0'}, '..', {'Case ID': 'Case 1', 'Activity': 'Packing', 'Resource': 'Packing', 'Start Timestamp': Timestamp('2012-02-17 00:00:00+0000', tz='UTC'), 'Complete Timestamp': Timestamp('2012-02-17 01:00:00+0000', tz='UTC'), 'Span': '000:00', 'Work Order  Qty': 10, 'Part Desc.': 'Cable Head', 'Worker ID': 'ID4820', 'Report Type': 'D', 'Qty Completed': 9, 'Qty Rejected': 0, 'Qty for MRB': 0, 'Rework': nan, 'duration': '00:00.0'}]}, '....', {'attributes': {'concept:name': 'Case 99'}, 'events': [{'Case ID': 'Case 99', 'Activity': 'Turning & Milling Q.C.', 'Resource': 'Quality Check 1', 'Start Timestamp': Timestamp('2012-03-22 11:59:00+0000', tz='UTC'), 'Complete Timestamp': Timestamp('2012-03-22 16:03:00+0000', tz='UTC'), 'Span': '004:04', 'Work Order  Qty': 507, 'Part Desc.': 'Drill', 'Worker ID': 'ID4618', 'Report Type': 'D', 'Qty Completed': 0, 'Qty Rejected': 0, 'Qty for MRB': 0, 'Rework': nan, 'duration': '04:00.0'}, '..', {'Case ID': 'Case 99', 'Activity': 'Packing', 'Resource': 'Packing', 'Start Timestamp': Timestamp('2012-03-30 00:00:00+0000', tz='UTC'), 'Complete Timestamp': Timestamp('2012-03-30 01:00:00+0000', tz='UTC'), 'Span': '000:00', 'Work Order  Qty': 507, 'Part Desc.': 'Drill', 'Worker ID': 'ID4820', 'Report Type': 'D', 'Qty Completed': 160, 'Qty Rejected': 0, 'Qty for MRB': 0, 'Rework': nan, 'duration': '00:00.0'}]}]"
      ]
     },
     "execution_count": 35,
     "metadata": {},
     "output_type": "execute_result"
    }
   ],
   "source": [
    "log"
   ]
  },
  {
   "cell_type": "code",
   "execution_count": 37,
   "metadata": {},
   "outputs": [
    {
     "ename": "KeyError",
     "evalue": "\"None of [Index(['case:concept:name', 'concept:name', 'org:resource'], dtype='object')] are in the [columns]\"",
     "output_type": "error",
     "traceback": [
      "\u001b[0;31m---------------------------------------------------------------------------\u001b[0m",
      "\u001b[0;31mKeyError\u001b[0m                                  Traceback (most recent call last)",
      "\u001b[0;32m<ipython-input-37-a81ada051ad9>\u001b[0m in \u001b[0;36m<module>\u001b[0;34m\u001b[0m\n\u001b[0;32m----> 1\u001b[0;31m \u001b[0mltl2\u001b[0m\u001b[0;34m.\u001b[0m\u001b[0mltl_checker\u001b[0m\u001b[0;34m.\u001b[0m\u001b[0mattr_value_different_persons\u001b[0m\u001b[0;34m(\u001b[0m\u001b[0mdataframe\u001b[0m\u001b[0;34m,\u001b[0m \u001b[0mA\u001b[0m\u001b[0;34m)\u001b[0m\u001b[0;34m\u001b[0m\u001b[0;34m\u001b[0m\u001b[0m\n\u001b[0m",
      "\u001b[0;32m~/opt/anaconda3/lib/python3.7/site-packages/pm4py/algo/filtering/pandas/ltl/ltl_checker.py\u001b[0m in \u001b[0;36mattr_value_different_persons\u001b[0;34m(df0, A, parameters)\u001b[0m\n\u001b[1;32m    395\u001b[0m \u001b[0;34m\u001b[0m\u001b[0m\n\u001b[1;32m    396\u001b[0m     \u001b[0mdf\u001b[0m \u001b[0;34m=\u001b[0m \u001b[0mdf0\u001b[0m\u001b[0;34m.\u001b[0m\u001b[0mcopy\u001b[0m\u001b[0;34m(\u001b[0m\u001b[0;34m)\u001b[0m\u001b[0;34m\u001b[0m\u001b[0;34m\u001b[0m\u001b[0m\n\u001b[0;32m--> 397\u001b[0;31m     \u001b[0mdf\u001b[0m \u001b[0;34m=\u001b[0m \u001b[0mdf\u001b[0m\u001b[0;34m[\u001b[0m\u001b[0;34m[\u001b[0m\u001b[0mcase_id_glue\u001b[0m\u001b[0;34m,\u001b[0m \u001b[0mattribute_key\u001b[0m\u001b[0;34m,\u001b[0m \u001b[0mresource_key\u001b[0m\u001b[0;34m]\u001b[0m\u001b[0;34m]\u001b[0m\u001b[0;34m\u001b[0m\u001b[0;34m\u001b[0m\u001b[0m\n\u001b[0m\u001b[1;32m    398\u001b[0m \u001b[0;34m\u001b[0m\u001b[0m\n\u001b[1;32m    399\u001b[0m     \u001b[0mdf_A\u001b[0m \u001b[0;34m=\u001b[0m \u001b[0mdf\u001b[0m\u001b[0;34m[\u001b[0m\u001b[0mdf\u001b[0m\u001b[0;34m[\u001b[0m\u001b[0mattribute_key\u001b[0m\u001b[0;34m]\u001b[0m \u001b[0;34m==\u001b[0m \u001b[0mA\u001b[0m\u001b[0;34m]\u001b[0m\u001b[0;34m\u001b[0m\u001b[0;34m\u001b[0m\u001b[0m\n",
      "\u001b[0;32m~/opt/anaconda3/lib/python3.7/site-packages/pandas/core/frame.py\u001b[0m in \u001b[0;36m__getitem__\u001b[0;34m(self, key)\u001b[0m\n\u001b[1;32m   2804\u001b[0m             \u001b[0;32mif\u001b[0m \u001b[0mis_iterator\u001b[0m\u001b[0;34m(\u001b[0m\u001b[0mkey\u001b[0m\u001b[0;34m)\u001b[0m\u001b[0;34m:\u001b[0m\u001b[0;34m\u001b[0m\u001b[0;34m\u001b[0m\u001b[0m\n\u001b[1;32m   2805\u001b[0m                 \u001b[0mkey\u001b[0m \u001b[0;34m=\u001b[0m \u001b[0mlist\u001b[0m\u001b[0;34m(\u001b[0m\u001b[0mkey\u001b[0m\u001b[0;34m)\u001b[0m\u001b[0;34m\u001b[0m\u001b[0;34m\u001b[0m\u001b[0m\n\u001b[0;32m-> 2806\u001b[0;31m             \u001b[0mindexer\u001b[0m \u001b[0;34m=\u001b[0m \u001b[0mself\u001b[0m\u001b[0;34m.\u001b[0m\u001b[0mloc\u001b[0m\u001b[0;34m.\u001b[0m\u001b[0m_get_listlike_indexer\u001b[0m\u001b[0;34m(\u001b[0m\u001b[0mkey\u001b[0m\u001b[0;34m,\u001b[0m \u001b[0maxis\u001b[0m\u001b[0;34m=\u001b[0m\u001b[0;36m1\u001b[0m\u001b[0;34m,\u001b[0m \u001b[0mraise_missing\u001b[0m\u001b[0;34m=\u001b[0m\u001b[0;32mTrue\u001b[0m\u001b[0;34m)\u001b[0m\u001b[0;34m[\u001b[0m\u001b[0;36m1\u001b[0m\u001b[0;34m]\u001b[0m\u001b[0;34m\u001b[0m\u001b[0;34m\u001b[0m\u001b[0m\n\u001b[0m\u001b[1;32m   2807\u001b[0m \u001b[0;34m\u001b[0m\u001b[0m\n\u001b[1;32m   2808\u001b[0m         \u001b[0;31m# take() does not accept boolean indexers\u001b[0m\u001b[0;34m\u001b[0m\u001b[0;34m\u001b[0m\u001b[0;34m\u001b[0m\u001b[0m\n",
      "\u001b[0;32m~/opt/anaconda3/lib/python3.7/site-packages/pandas/core/indexing.py\u001b[0m in \u001b[0;36m_get_listlike_indexer\u001b[0;34m(self, key, axis, raise_missing)\u001b[0m\n\u001b[1;32m   1550\u001b[0m \u001b[0;34m\u001b[0m\u001b[0m\n\u001b[1;32m   1551\u001b[0m         self._validate_read_indexer(\n\u001b[0;32m-> 1552\u001b[0;31m             \u001b[0mkeyarr\u001b[0m\u001b[0;34m,\u001b[0m \u001b[0mindexer\u001b[0m\u001b[0;34m,\u001b[0m \u001b[0mo\u001b[0m\u001b[0;34m.\u001b[0m\u001b[0m_get_axis_number\u001b[0m\u001b[0;34m(\u001b[0m\u001b[0maxis\u001b[0m\u001b[0;34m)\u001b[0m\u001b[0;34m,\u001b[0m \u001b[0mraise_missing\u001b[0m\u001b[0;34m=\u001b[0m\u001b[0mraise_missing\u001b[0m\u001b[0;34m\u001b[0m\u001b[0;34m\u001b[0m\u001b[0m\n\u001b[0m\u001b[1;32m   1553\u001b[0m         )\n\u001b[1;32m   1554\u001b[0m         \u001b[0;32mreturn\u001b[0m \u001b[0mkeyarr\u001b[0m\u001b[0;34m,\u001b[0m \u001b[0mindexer\u001b[0m\u001b[0;34m\u001b[0m\u001b[0;34m\u001b[0m\u001b[0m\n",
      "\u001b[0;32m~/opt/anaconda3/lib/python3.7/site-packages/pandas/core/indexing.py\u001b[0m in \u001b[0;36m_validate_read_indexer\u001b[0;34m(self, key, indexer, axis, raise_missing)\u001b[0m\n\u001b[1;32m   1637\u001b[0m             \u001b[0;32mif\u001b[0m \u001b[0mmissing\u001b[0m \u001b[0;34m==\u001b[0m \u001b[0mlen\u001b[0m\u001b[0;34m(\u001b[0m\u001b[0mindexer\u001b[0m\u001b[0;34m)\u001b[0m\u001b[0;34m:\u001b[0m\u001b[0;34m\u001b[0m\u001b[0;34m\u001b[0m\u001b[0m\n\u001b[1;32m   1638\u001b[0m                 \u001b[0maxis_name\u001b[0m \u001b[0;34m=\u001b[0m \u001b[0mself\u001b[0m\u001b[0;34m.\u001b[0m\u001b[0mobj\u001b[0m\u001b[0;34m.\u001b[0m\u001b[0m_get_axis_name\u001b[0m\u001b[0;34m(\u001b[0m\u001b[0maxis\u001b[0m\u001b[0;34m)\u001b[0m\u001b[0;34m\u001b[0m\u001b[0;34m\u001b[0m\u001b[0m\n\u001b[0;32m-> 1639\u001b[0;31m                 \u001b[0;32mraise\u001b[0m \u001b[0mKeyError\u001b[0m\u001b[0;34m(\u001b[0m\u001b[0;34mf\"None of [{key}] are in the [{axis_name}]\"\u001b[0m\u001b[0;34m)\u001b[0m\u001b[0;34m\u001b[0m\u001b[0;34m\u001b[0m\u001b[0m\n\u001b[0m\u001b[1;32m   1640\u001b[0m \u001b[0;34m\u001b[0m\u001b[0m\n\u001b[1;32m   1641\u001b[0m             \u001b[0;31m# We (temporarily) allow for some missing keys with .loc, except in\u001b[0m\u001b[0;34m\u001b[0m\u001b[0;34m\u001b[0m\u001b[0;34m\u001b[0m\u001b[0m\n",
      "\u001b[0;31mKeyError\u001b[0m: \"None of [Index(['case:concept:name', 'concept:name', 'org:resource'], dtype='object')] are in the [columns]\""
     ]
    }
   ],
   "source": [
    "ltl2.ltl_checker.attr_value_different_persons(dataframe, A)"
   ]
  },
  {
   "cell_type": "code",
   "execution_count": null,
   "metadata": {},
   "outputs": [],
   "source": []
  }
 ],
 "metadata": {
  "kernelspec": {
   "display_name": "Python 3",
   "language": "python",
   "name": "python3"
  },
  "language_info": {
   "codemirror_mode": {
    "name": "ipython",
    "version": 3
   },
   "file_extension": ".py",
   "mimetype": "text/x-python",
   "name": "python",
   "nbconvert_exporter": "python",
   "pygments_lexer": "ipython3",
   "version": "3.7.6"
  }
 },
 "nbformat": 4,
 "nbformat_minor": 4
}
