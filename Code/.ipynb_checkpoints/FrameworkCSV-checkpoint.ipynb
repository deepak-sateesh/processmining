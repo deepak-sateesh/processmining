{
 "cells": [
  {
   "cell_type": "code",
   "execution_count": 47,
   "metadata": {},
   "outputs": [],
   "source": [
    "#All the imports here\n",
    "from pm4py.objects.log.importer.xes import importer as xes_importer\n",
    "from pm4py.algo.discovery.inductive import algorithm as inductive_miner\n",
    "from pm4py.algo.discovery.inductive import algorithm as inductive_miner\n",
    "from pm4py.visualization.process_tree import visualizer as pt_visualizer\n",
    "from pm4py.objects.conversion.process_tree import converter as pt_converter\n",
    "from pm4py.algo.discovery.dfg import algorithm as dfg_discovery\n",
    "from pm4py.visualization.dfg import visualizer as dfg_visualization\n",
    "from pm4py.objects.conversion.dfg import converter as dfg_mining\n",
    "from pm4py.visualization.petrinet import factory as pn_vis_factory\n",
    "from collections import defaultdict \n",
    "import pandas as pd\n",
    "from pm4py.objects.log.util import dataframe_utils\n",
    "from pm4py.objects.conversion.log import converter as log_converter\n",
    "from pm4py.objects.log.adapters.pandas import csv_import_adapter\n",
    "from pm4py.objects.conversion.log import factory as conversion_factory\n",
    "from pm4py.util import constants\n",
    "import math\n",
    "from datetime import date\n",
    "import numpy as np"
   ]
  },
  {
   "cell_type": "code",
   "execution_count": 2,
   "metadata": {},
   "outputs": [],
   "source": [
    "%config IPCompleter.greedy=True"
   ]
  },
  {
   "cell_type": "code",
   "execution_count": 3,
   "metadata": {},
   "outputs": [],
   "source": [
    "def explore_log(log):\n",
    "    for case_index, case in enumerate(log):\n",
    "        print(\"\\n case index: %d  case id: %s\" % (case_index, case.attributes[\"concept:name\"]))\n",
    "        for event_index, event in enumerate(case):\n",
    "            print(\"event index: %d  event activity: %s\" % (event_index, event[\"concept:name\"]))"
   ]
  },
  {
   "cell_type": "code",
   "execution_count": 4,
   "metadata": {},
   "outputs": [],
   "source": [
    "#This class represents a directed graph using dfg \n",
    "class Graph: \n",
    "\n",
    "    def __init__(self,vertices): \n",
    "        self.V= vertices #No. of vertices \n",
    "        self.graph = defaultdict(list) # default dictionary to store graph \n",
    "\n",
    "    # function to add an edge to graph \n",
    "    def addEdge(self,u,v): \n",
    "        self.graph[u].append(v) \n",
    "    \n",
    "    # Use BFS to check path between s and d \n",
    "    def isReachable(self, s, d): \n",
    "        # Mark all the vertices as not visited \n",
    "        visited =[False]*(self.V) \n",
    "\n",
    "        # Create a queue for BFS \n",
    "        queue=[]\n",
    "\n",
    "        # Mark the source node as visited and enqueue it \n",
    "        queue.append(s) \n",
    "        visited[s] = True\n",
    "\n",
    "        while queue: \n",
    "\n",
    "            #Dequeue a vertex from queue \n",
    "            n = queue.pop(0) \n",
    "\n",
    "            # If this adjacent node is the destination node, \n",
    "            # then return true \n",
    "            if n == d: \n",
    "                return True\n",
    "\n",
    "            # Else, continue to do BFS \n",
    "            for i in self.graph[n]: \n",
    "                if visited[i] == False: \n",
    "                    queue.append(i) \n",
    "                    visited[i] = True\n",
    "        # If BFS is complete without visited d \n",
    "        return False\n",
    "\n"
   ]
  },
  {
   "cell_type": "code",
   "execution_count": 5,
   "metadata": {},
   "outputs": [],
   "source": [
    "def find_weakness(log, forbidden_sequence):\n",
    "    #Weakness 1: Duplicate or loop-> Same event repeating twice in the log\n",
    "    for case_index, case in enumerate(log):\n",
    "        print(\"\\n case index: %d  case id: %s\" % (case_index, case.attributes[\"concept:name\"]))\n",
    "        event_list=[]\n",
    "        \n",
    "        for event_index, event in enumerate(case):\n",
    "            print(\"event index: %d  event activity: %s\" % (event_index, event[\"concept:name\"]))\n",
    "            event_list.append(event[\"concept:name\"])\n",
    "            \n",
    "        print (\"The events which got repeated in the trace are\",find_duplicate_events(event_list))\n",
    "        \n",
    "\n",
    "\n",
    "\n",
    "    #Weakness 2: Find out if the forbidden sequence of events exists in the log\n",
    "    #applying the Directly follows graph discovery to get the sequence which are directly following each other\n",
    "    dfg_simple = dfg_discovery.apply(log)\n",
    "    violated_restrictions=[]#for directly following each other or indirectly following\n",
    "    for r in forbidden_sequence:\n",
    "        count=0\n",
    "        for d in dfg_simple.elements():\n",
    "            if(r==d):\n",
    "                count+=1\n",
    "                violated_restrictions.append((r,count))\n",
    "            #else if(r[0]==d[0]):\n",
    "            \n",
    "              \n",
    "                \n",
    "    print(\"Violated restrictions, Number of times violated: \",violated_restrictions)"
   ]
  },
  {
   "cell_type": "code",
   "execution_count": 6,
   "metadata": {},
   "outputs": [
    {
     "data": {
      "application/vnd.jupyter.widget-view+json": {
       "model_id": "de93c3a10d554d6c89251b268fae4c2c",
       "version_major": 2,
       "version_minor": 0
      },
      "text/plain": [
       "HBox(children=(FloatProgress(value=0.0, description='parsing log, completed traces :: ', max=6.0, style=Progre…"
      ]
     },
     "metadata": {},
     "output_type": "display_data"
    },
    {
     "name": "stdout",
     "output_type": "stream",
     "text": [
      "\n",
      "There is a path from register request to decide\n"
     ]
    }
   ],
   "source": [
    "\n",
    "# Create a graph for the given dfg\n",
    "\n",
    "log = xes_importer.apply('running-example.xes')\n",
    "dfg_simple = dfg_discovery.apply(log)\n",
    "\n",
    "    \n",
    "g = Graph(len(list(dfg_simple.elements())))\n",
    "l=[]\n",
    "for t in dfg_simple.elements(): \n",
    "    for x in t: \n",
    "        l.append(x) \n",
    "l=list(set(l))#list mapping every element to a number\n",
    "for d in dfg_simple.elements():\n",
    "    g.addEdge(l.index(d[0]),l.index(d[1]))\n",
    "    \n",
    "\n",
    "u =l.index(\"register request\"); v = l.index(\"decide\")\n",
    "\n",
    "if g.isReachable(u, v): \n",
    "    print(\"There is a path from %s to %s\" % (l[u],l[v])) \n",
    "else : \n",
    "    print(\"There is no path from %s to %s\" % (l[u],l[v])) \n",
    "\n"
   ]
  },
  {
   "cell_type": "code",
   "execution_count": 7,
   "metadata": {},
   "outputs": [
    {
     "data": {
      "application/vnd.jupyter.widget-view+json": {
       "model_id": "14169ed1909745fa9a23615e2660cf4a",
       "version_major": 2,
       "version_minor": 0
      },
      "text/plain": [
       "HBox(children=(FloatProgress(value=0.0, description='parsing log, completed traces :: ', max=6.0, style=Progre…"
      ]
     },
     "metadata": {},
     "output_type": "display_data"
    },
    {
     "name": "stdout",
     "output_type": "stream",
     "text": [
      "\n",
      "<class 'pm4py.objects.log.log.Trace'>\n",
      "<class 'pm4py.objects.log.log.Trace'>\n",
      "<class 'pm4py.objects.log.log.Trace'>\n",
      "<class 'pm4py.objects.log.log.Trace'>\n",
      "<class 'pm4py.objects.log.log.Trace'>\n",
      "<class 'pm4py.objects.log.log.Trace'>\n",
      "<class 'pm4py.objects.log.log.EventLog'>\n"
     ]
    }
   ],
   "source": [
    "log = xes_importer.apply('running-example.xes')\n",
    "dfg_simple = dfg_discovery.apply(log)\n",
    "\n",
    "for case_index, case in enumerate(log):\n",
    "    print(type(case))\n",
    "    #dfg_simple1 = dfg_discovery.apply(case)\n",
    "    \n",
    "\n",
    "print(type(log))"
   ]
  },
  {
   "cell_type": "code",
   "execution_count": 8,
   "metadata": {},
   "outputs": [],
   "source": [
    "from pm4py.objects.dfg.utils import dfg_utils\n",
    "from pm4py.objects.petri.petrinet import PetriNet, Marking\n",
    "from pm4py.objects.petri import utils as pn_util\n",
    "from enum import Enum\n",
    "from pm4py.util import exec_utils\n",
    "\n",
    "\n",
    "class Parameters(Enum):\n",
    "    START_ACTIVITIES = 'start_activities'\n",
    "    END_ACTIVITIES = 'end_activities'\n",
    "\n",
    "\n",
    "\n",
    "PARAM_KEY_START_ACTIVITIES = Parameters.START_ACTIVITIES\n",
    "PARAM_KEY_END_ACTIVITIES = Parameters.END_ACTIVITIES\n",
    "\n",
    "#obtain petrinet from dfg\n",
    "def obtain_petrinet_from_dfg(dfg, parameters=None):\n",
    "    \"\"\"\n",
    "    Applies the DFG mining on a given object (if it is a Pandas dataframe or a log, the DFG is calculated)\n",
    "\n",
    "    Parameters\n",
    "    -------------\n",
    "    dfg\n",
    "        Object (DFG) (if it is a Pandas dataframe or a log, the DFG is calculated)\n",
    "    parameters\n",
    "        Parameters\n",
    "    \"\"\"\n",
    "    if parameters is None:\n",
    "        parameters = {}\n",
    "\n",
    "    dfg = dfg\n",
    "    start_activities = exec_utils.get_param_value(Parameters.START_ACTIVITIES, parameters,\n",
    "                                                  dfg_utils.infer_start_activities(\n",
    "                                                      dfg))\n",
    "    end_activities = exec_utils.get_param_value(Parameters.END_ACTIVITIES, parameters,\n",
    "                                                dfg_utils.infer_end_activities(dfg))\n",
    "    activities = dfg_utils.get_activities_from_dfg(dfg)\n",
    "\n",
    "    net = PetriNet(\"\")\n",
    "    im = Marking()\n",
    "    fm = Marking()\n",
    "\n",
    "    source = PetriNet.Place(\"source\")\n",
    "    net.places.add(source)\n",
    "    im[source] = 1\n",
    "    sink = PetriNet.Place(\"sink\")\n",
    "    net.places.add(sink)\n",
    "    fm[sink] = 1\n",
    "\n",
    "    places_corr = {}\n",
    "    index = 0\n",
    "\n",
    "    for act in activities:\n",
    "        places_corr[act] = PetriNet.Place(act)\n",
    "        net.places.add(places_corr[act])\n",
    "\n",
    "    for act in start_activities:\n",
    "        if act in places_corr:\n",
    "            index = index + 1\n",
    "            trans = PetriNet.Transition(act + \"_\" + str(index), act)\n",
    "            net.transitions.add(trans)\n",
    "            pn_util.add_arc_from_to(source, trans, net)\n",
    "            pn_util.add_arc_from_to(trans, places_corr[act], net)\n",
    "\n",
    "    for act in end_activities:\n",
    "        if act in places_corr:\n",
    "            index = index + 1\n",
    "            inv_trans = PetriNet.Transition(act + \"_\" + str(index), None)\n",
    "            net.transitions.add(inv_trans)\n",
    "            pn_util.add_arc_from_to(places_corr[act], inv_trans, net)\n",
    "            pn_util.add_arc_from_to(inv_trans, sink, net)\n",
    "\n",
    "    for el in dfg.keys():\n",
    "        act1 = el[0]\n",
    "        act2 = el[1]\n",
    "\n",
    "        index = index + 1\n",
    "        trans = PetriNet.Transition(act2 + \"_\" + str(index), act2)\n",
    "        net.transitions.add(trans)\n",
    "\n",
    "        pn_util.add_arc_from_to(places_corr[act1], trans, net)\n",
    "        pn_util.add_arc_from_to(trans, places_corr[act2], net)\n",
    "\n",
    "    return net, im, fm\n",
    "\n"
   ]
  },
  {
   "cell_type": "code",
   "execution_count": 9,
   "metadata": {},
   "outputs": [],
   "source": [
    "def Unwanted_Activity(log, blacklist):\n",
    "    print(\"Unwanted activity function\")\n",
    "    for case_index, case in enumerate(log):\n",
    "        for event_index, event in enumerate(case):\n",
    "            if(event[\"Activity\"] in blacklist):\n",
    "                print(\"Unwanted activity=> activity: %s -> case: %s  \" % (event[\"Activity\"], event[\"Case ID\"]))\n",
    "            "
   ]
  },
  {
   "cell_type": "code",
   "execution_count": 10,
   "metadata": {},
   "outputs": [],
   "source": [
    "#Checks for the largest common prefix  \n",
    "def lcp(s, t):  \n",
    "  n = min(len(s),len(t));  \n",
    "  for i in range(0,n):  \n",
    "    if(s[i] != t[i]):  \n",
    "      return s[0:i];  \n",
    "  else:  \n",
    "    return s[0:n];  \n",
    "\n",
    "def Find_sequence(eventList):\n",
    "    lrs=\"\";  \n",
    "    n = len(eventList);  \n",
    "    for i in range(0,n):  \n",
    "      for j in range(i+1,n):  \n",
    "        #Checks for the largest common factors in every substring  \n",
    "        x = lcp(eventList[i:n],eventList[j:n]);  \n",
    "            #If the current prefix is greater than previous one   \n",
    "            #then it takes the current one as longest repeating sequence  \n",
    "        if(len(x) > len(lrs)):  \n",
    "          lrs=x;    \n",
    "    print(\"Longest repeating sequence: \",lrs);  "
   ]
  },
  {
   "cell_type": "code",
   "execution_count": 11,
   "metadata": {},
   "outputs": [],
   "source": [
    "def Backloop(log):\n",
    "    print(\"Backloop function\")\n",
    "    for case_index, case in enumerate(log):\n",
    "        eventList=[]\n",
    "        for event_index, event in enumerate(case):\n",
    "            eventList.append(event[\"Activity\"])\n",
    "        print(\"Repeating sequence for events in case:\",case.attributes['concept:name'])   \n",
    "        Find_sequence(eventList)\n",
    "        \n",
    "    #for trace in event_log:\n",
    "    #    print(trace)"
   ]
  },
  {
   "cell_type": "code",
   "execution_count": 12,
   "metadata": {},
   "outputs": [],
   "source": [
    "def find_duplicate_events(x): \n",
    "    _size = len(x) \n",
    "    duplicate_list = [] \n",
    "    for i in range(_size): \n",
    "        k = i + 1\n",
    "        for j in range(k, _size): \n",
    "            if x[i] == x[j] and x[i] not in duplicate_list: \n",
    "                duplicate_list.append(x[i]) \n",
    "    return duplicate_list"
   ]
  },
  {
   "cell_type": "code",
   "execution_count": 13,
   "metadata": {},
   "outputs": [],
   "source": [
    "def Redundant_Activity(log):\n",
    "    print(\"Redundant_Activity function\")\n",
    "    for case_index, case in enumerate(log):\n",
    "        print(\"\\n Case Id: %s\" % ( case.attributes[\"concept:name\"]))\n",
    "        event_list=[]\n",
    "        \n",
    "        for event_index, event in enumerate(case):\n",
    "            print(\"event index: %d  event activity: %s\" % (event_index, event[\"Activity\"]))\n",
    "            event_list.append(event[\"Activity\"])\n",
    "            \n",
    "        print (\"The events which got repeated in the trace are\",find_duplicate_events(event_list))"
   ]
  },
  {
   "cell_type": "code",
   "execution_count": 14,
   "metadata": {},
   "outputs": [],
   "source": [
    "def Interface(log):\n",
    "    for case_index, case in enumerate(log):\n",
    "        d={}\n",
    "        l=\"\"\n",
    "        print(\"\\n Case Id: %s\" % ( case.attributes[\"concept:name\"]))\n",
    "        \n",
    "        for event_index, event in enumerate(case):\n",
    "            if( len(d)!=0 and event[\"Activity\"] in d.keys() and event[\"Resource\"]!= d[event[\"Activity\"]]):\n",
    "                print(\"The resource has changed for the activity: %s from %s to %s\"%(event[\"Activity\"], d[event[\"Activity\"]], event[\"Resource\"]))\n",
    "            d[event[\"Activity\"]]=event[\"Resource\"]\n",
    "            \n",
    "            \n",
    "    print(\"Interface function\")"
   ]
  },
  {
   "cell_type": "code",
   "execution_count": 15,
   "metadata": {},
   "outputs": [],
   "source": [
    "def Switch_of_media(log):\n",
    "    print(\"Switch_of_media function\")\n",
    "    print(\"Logic is same as Interface function as there is no column for media in the given CSV \")"
   ]
  },
  {
   "cell_type": "code",
   "execution_count": 16,
   "metadata": {},
   "outputs": [],
   "source": [
    "def Idle_time(log):\n",
    "    print(\"Idle_time function\")\n",
    "    for case_index, case in enumerate(log):\n",
    "        print(\"\\n Case Id: %s\" % ( case.attributes[\"concept:name\"]))\n",
    "        prev_end_timestamp=0\n",
    "        idle_time=0\n",
    "        prev_activity=\"\"\n",
    "        for event_index, event in enumerate(case):\n",
    "            if(prev_end_timestamp!=0):\n",
    "                idle_time=pd.to_datetime(event[\"Start Timestamp\"], format = \"%m/%d/%Y %H:%M:%S\")-prev_end_timestamp\n",
    "            print(\"Idle time between previous activity:%s and current activity:%s is %s\"%(prev_activity, event[\"Activity\"], idle_time))\n",
    "            prev_end_timestamp=pd.to_datetime(event[\"Complete Timestamp\"], format = \"%m/%d/%Y %H:%M:%S\") \n",
    "            prev_activity=event[\"Activity\"]"
   ]
  },
  {
   "cell_type": "code",
   "execution_count": 45,
   "metadata": {},
   "outputs": [],
   "source": [
    "def mean1(log):\n",
    "    total_events=0\n",
    "    avg_dict={}\n",
    "    for case_index, case in enumerate(log): \n",
    "        for event_index, event in enumerate(case):\n",
    "            total_events=+1\n",
    "            if event[\"Activity\"] not in avg_dict.keys():\n",
    "                avg_dict[event[\"Activity\"]]=((pd.to_datetime(event[\"Complete Timestamp\"], format = \"%m/%d/%Y %H:%M:%S\")-pd.to_datetime(event[\"Start Timestamp\"], format = \"%m/%d/%Y %H:%M:%S\"))/ pd.Timedelta(hours=1),1)\n",
    "            else:\n",
    "                avg_dict[event[\"Activity\"]]=(avg_dict[event[\"Activity\"]][0] + (pd.to_datetime(event[\"Complete Timestamp\"], format = \"%m/%d/%Y %H:%M:%S\")-pd.to_datetime(event[\"Start Timestamp\"], format = \"%m/%d/%Y %H:%M:%S\"))/ pd.Timedelta(hours=1),(avg_dict[event[\"Activity\"]][1])+1)\n",
    "    \n",
    "    avg_dict2={}\n",
    "    for k, v in avg_dict.items():\n",
    "        avg_dict2[k]=v[0]/v[1]\n",
    "    print(avg_dict2)\n",
    "        "
   ]
  },
  {
   "cell_type": "code",
   "execution_count": 61,
   "metadata": {},
   "outputs": [],
   "source": [
    "def Variance_of_process_times(log):\n",
    "    print(\"Variance_of_process_times function\")\n",
    "    d={}#mean1(log)\n",
    "    l=[]\n",
    "    for case_index, case in enumerate(log): \n",
    "        for event_index, event in enumerate(case):\n",
    "            if event[\"Activity\"] not in d.keys():\n",
    "                l=[]\n",
    "            else:\n",
    "                l=d[event[\"Activity\"]]\n",
    "            l.append( (pd.to_datetime(event[\"Complete Timestamp\"], format = \"%m/%d/%Y %H:%M:%S\")-pd.to_datetime(event[\"Start Timestamp\"], format = \"%m/%d/%Y %H:%M:%S\"))/ pd.Timedelta(hours=1))\n",
    "            d[event[\"Activity\"]]=(l)\n",
    "    variance_dict={}\n",
    "    for k,v in d.items():\n",
    "        variance_dict[k]= np.var(v)\n",
    "    print(\"Variance for each activity:\")\n",
    "    print(variance_dict)\n",
    "        \n",
    "            \n",
    "            "
   ]
  },
  {
   "cell_type": "code",
   "execution_count": 19,
   "metadata": {},
   "outputs": [],
   "source": [
    "def Bottleneck(log):\n",
    "    print(\"Bottleneck function\")\n",
    "    for case_index, case in enumerate(log):\n",
    "        print(\"\\n Case Id: %s\" % ( case.attributes[\"concept:name\"]))\n",
    "        duration=0 \n",
    "        a=\"\"\n",
    "        max_duration=0\n",
    "        for event_index, event in enumerate(case):\n",
    "            duration=pd.to_datetime(event[\"Complete Timestamp\"], format = \"%m/%d/%Y %H:%M:%S\")-pd.to_datetime(event[\"Start Timestamp\"], format = \"%m/%d/%Y %H:%M:%S\")\n",
    "            if(max_duration==0 or duration>max_duration):\n",
    "                max_duration=duration\n",
    "                a=event[\"Activity\"]\n",
    "        print(\"Bottleneck Activity:%s took maximum time of %s to complete\"%(a,max_duration ))\n",
    "           \n",
    "    "
   ]
  },
  {
   "cell_type": "code",
   "execution_count": 20,
   "metadata": {},
   "outputs": [],
   "source": [
    "def Parallelizable_tasks():\n",
    "    print(\"Parallelizable_tasks function\")"
   ]
  },
  {
   "cell_type": "code",
   "execution_count": 62,
   "metadata": {},
   "outputs": [
    {
     "name": "stdout",
     "output_type": "stream",
     "text": [
      "Welcome to Joint Master thesis:\n",
      "Modelling of production expertise to extend the data-driven analysis of process models\n",
      "Log imported\n",
      "\n",
      "\n",
      "\n",
      "Variance_of_process_times function\n"
     ]
    },
    {
     "name": "stderr",
     "output_type": "stream",
     "text": [
      "/Users/deepak/opt/anaconda3/lib/python3.7/site-packages/ipykernel_launcher.py:33: DeprecatedWarning: apply is deprecated as of 1.3.0 and will be removed in 2.0.0. Use algorithm entrypoint instead\n"
     ]
    },
    {
     "name": "stdout",
     "output_type": "stream",
     "text": [
      "Variance for each activity:\n",
      "{'Turning & Milling - Machine 4': 16.528016432608823, 'Turning & Milling Q.C.': 2.577405883362774, 'Laser Marking - Machine 7': 0.5306985386747292, 'Lapping - Machine 1': 3.238505924843762, 'Round Grinding - Machine 3': 9.699499389499387, 'Final Inspection Q.C.': 3.0094172644628094, 'Packing': 0.0, 'Turning & Milling - Machine 9': 12.729769768466593, 'Turning Q.C.': 1.6897965105601467, 'Flat Grinding - Machine 11': 2.178565014227164, 'Turning & Milling - Machine 8': 8.186719135802468, 'Grinding Rework - Machine 12': 1.2100045913682278, 'Setup - Machine 8': 0.0, 'Round Grinding - Machine 12': 6.170809537973429, 'Round Grinding - Manual': 7.631096426996725, 'Round Grinding - Q.C.': 4.745569121261451, 'Turning & Milling - Machine 5': 14.454836673408101, 'Turning & Milling - Machine 10': 15.32080589462937, 'Round Grinding - Machine 2': 8.560435371827662, 'Turning & Milling - Machine 6': 15.112434744384585, 'Turning - Machine 4': 7.88447482638889, 'Grinding Rework': 1.3850918273645547, 'SETUP     Turning & Milling - Machine 5': 0.5148765432098764, 'Final Inspection - Weighting': 0.0, 'Turning - Machine 9': 13.197650749923477, 'Deburring - Manual': 3.4930521262002747, 'Turning - Machine 8': 11.224371784326056, 'Wire Cut - Machine 13': 11.293795666414715, 'Wire Cut - Machine 18': 6.25, 'Rework Milling - Machine 28': 0.0625, 'Fix EDM': 6.181302083333333, 'Milling Q.C.': 0.0, 'Milling - Machine 14': 11.018854595336077, 'Flat Grinding - Machine 26': 0.0, 'Grinding Rework - Machine 27': 4.568477327358866, 'Grinding Rework - Machine 2': 4.030316358024691, 'Fix - Machine 19': 0.0, 'Round  Q.C.': 0.015625, 'Stress Relief': 2.6666666666666665, 'Turning Rework - Machine 21': 3.1666666666666665, 'Milling - Machine 10': 0.0, 'Milling - Machine 16': 6.061447222222222, 'Change Version - Machine 22': 2.625052083333333, 'Turning - Machine 5': 0.15340277777777772, 'Round Grinding - Machine 19': 2.6978395061728393, 'Fix - Machine 3': 0.9344444444444444, 'Turn & Mill. & Screw Assem - Machine 9': 2.3258503401360544, 'Nitration Q.C.': 0.5038020833333334, 'Round Grinding - Machine 23': 1.037469135802469, 'Fix - Machine 15': 0.07562500000000001, 'Turn & Mill. & Screw Assem - Machine 10': 12.340525439342404, 'Fix - Machine 15M': 0.0, 'Turning - Machine 21': 0.0, 'Milling - Machine 8': 0.0, 'Setup - Machine 4': 0.0}\n"
     ]
    }
   ],
   "source": [
    "# Defining main function \n",
    "def main(): \n",
    "    print(\"Welcome to Joint Master thesis:\\nModelling of production expertise to extend the data-driven analysis of process models\") \n",
    "    \n",
    "    '''#Import a log\n",
    "    log = xes_importer.apply('running-example.xes')\n",
    "    print(\"Log imported\")\n",
    "    \n",
    "    #Explore the log\n",
    "    #explore_log(log)\n",
    "    \n",
    "    #Define the forbidden sequence of events\n",
    "    #simple restriction which says you cannot decide without examining thoroughly \n",
    "    forbidden_sequence=[( 'decide','examine thoroughly')]\n",
    "    \n",
    "    #Find different kinds of weakness in the log\n",
    "    find_weakness(log, forbidden_sequence)\n",
    "    \n",
    "    #obtain_petrinet_from_dfg\n",
    "    dfg_simple = dfg_discovery.apply(log)\n",
    "    net, im, fm = obtain_petrinet_from_dfg(dfg_simple)\n",
    "\n",
    "    #Visualise the petrinet obtained\n",
    "    gviz = pn_vis_factory.apply(net, im, fm)\n",
    "    pn_vis_factory.view(gviz)'''\n",
    "    \n",
    "    #log = xes_importer.apply('running-example.xes')\n",
    "    log_csv = pd.read_csv('Production_Data.csv', sep=',')\n",
    "    log = conversion_factory.apply(log_csv, parameters={constants.PARAMETER_CONSTANT_CASEID_KEY: \"Case ID\",\n",
    "                                                   constants.PARAMETER_CONSTANT_ACTIVITY_KEY: \"Activity\",\n",
    "                                                    constants.PARAMETER_CONSTANT_START_TIMESTAMP_KEY:\"Start Timestamp\",\n",
    "                                                    constants.PARAMETER_CONSTANT_RESOURCE_KEY:\"Resource\",\n",
    "                                                    constants.PARAMETER_CONSTANT_TIMESTAMP_KEY:\"Complete Timestamp\"\n",
    "                                                   })\n",
    "    print(\"Log imported\\n\\n\\n\")\n",
    "  \n",
    "    \n",
    "    blacklist=[ 'Lapping - Machine 1','Turning & Milling - Machine 8']\n",
    "    #Unwanted_Activity(log, blacklist)\n",
    "    \n",
    "    #Backloop(log)\n",
    "    \n",
    "    #Redundant_Activity(log) \n",
    "    \n",
    "    #Interface(log)\n",
    "    \n",
    "    #Switch_of_media(log) Same as Interface as there is no column for media in the given CSV \n",
    "    \n",
    "    #Idle_time(log)\n",
    "    \n",
    "    Variance_of_process_times(log)\n",
    "    \n",
    "    #Bottleneck(log)\n",
    "    \n",
    "    #Parallelizable_tasks()\n",
    "main()\n"
   ]
  },
  {
   "cell_type": "code",
   "execution_count": null,
   "metadata": {},
   "outputs": [],
   "source": [
    "#Calling main function\n",
    "if __name__==\"__main__\": \n",
    "    main() "
   ]
  },
  {
   "cell_type": "code",
   "execution_count": null,
   "metadata": {},
   "outputs": [],
   "source": [
    "t=(pd.to_datetime(\"1/30/2012 5:45:00\", format = \"%m/%d/%Y %H:%M:%S\")-pd.to_datetime(\"1/29/2012 23:15:00\", format = \"%m/%d/%Y %H:%M:%S\"))/ pd.Timedelta(hours=1)\n",
    "d={}\n",
    "d[\"test\"]=(t,2)\n",
    "d.update({'test2':(1.4,1)})\n",
    "d.update({'test2':(1.5,1)})\n",
    "d['test2']=(2,4)\n",
    "d"
   ]
  },
  {
   "cell_type": "code",
   "execution_count": null,
   "metadata": {},
   "outputs": [],
   "source": []
  }
 ],
 "metadata": {
  "kernelspec": {
   "display_name": "Python 3",
   "language": "python",
   "name": "python3"
  },
  "language_info": {
   "codemirror_mode": {
    "name": "ipython",
    "version": 3
   },
   "file_extension": ".py",
   "mimetype": "text/x-python",
   "name": "python",
   "nbconvert_exporter": "python",
   "pygments_lexer": "ipython3",
   "version": "3.7.6"
  }
 },
 "nbformat": 4,
 "nbformat_minor": 4
}
